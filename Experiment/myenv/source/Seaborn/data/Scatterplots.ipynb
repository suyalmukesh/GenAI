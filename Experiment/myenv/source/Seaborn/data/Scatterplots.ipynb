{
 "cells": [
  {
   "cell_type": "markdown",
   "metadata": {},
   "source": [
    "# ScatterPlots\n",
    "```\n",
    "Scatter plots show the relationship between two continous features .\n",
    "\n",
    "Recall that continous features are numeric variables that can take any number of values between any two values . \n",
    "\n",
    "Continous Feature Examples - \n",
    "\n",
    "- Age\n",
    "- Height\n",
    "- Salary\n",
    "- Temperature \n",
    "- Prices \n",
    "\n",
    "A continous feature allows for a value to always be between two values .\n",
    "Not to be confused with categorical features which represent distinct and unique categories : Colors | Shapes | Names \n",
    "```"
   ]
  },
  {
   "cell_type": "code",
   "execution_count": 1,
   "metadata": {},
   "outputs": [],
   "source": [
    "import numpy as np\n",
    "import pandas as pd \n",
    "import matplotlib.pyplot as plt"
   ]
  },
  {
   "cell_type": "code",
   "execution_count": 6,
   "metadata": {},
   "outputs": [],
   "source": [
    "## pip install seaborn"
   ]
  },
  {
   "cell_type": "code",
   "execution_count": 7,
   "metadata": {},
   "outputs": [],
   "source": [
    "import seaborn as sns"
   ]
  },
  {
   "cell_type": "code",
   "execution_count": null,
   "metadata": {},
   "outputs": [],
   "source": []
  }
 ],
 "metadata": {
  "kernelspec": {
   "display_name": "myenv",
   "language": "python",
   "name": "python3"
  },
  "language_info": {
   "codemirror_mode": {
    "name": "ipython",
    "version": 3
   },
   "file_extension": ".py",
   "mimetype": "text/x-python",
   "name": "python",
   "nbconvert_exporter": "python",
   "pygments_lexer": "ipython3",
   "version": "3.12.3"
  }
 },
 "nbformat": 4,
 "nbformat_minor": 2
}
