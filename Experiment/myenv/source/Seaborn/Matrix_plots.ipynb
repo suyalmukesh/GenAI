{
 "cells": [
  {
   "cell_type": "markdown",
   "metadata": {},
   "source": [
    "# Matrix Plots \n",
    "\n",
    "Matrix plots are the visual equivalent of displaying a pivot table . \n",
    "\n",
    "The matrix plot displays all the data passed in , visualizing all the NUMERIC VALUES in a DataFrame \n",
    "\n",
    "Note ! \n",
    "   -- Not every DataFrame is a valid choice for a matrix plot such as a heatmap . "
   ]
  },
  {
   "cell_type": "markdown",
   "metadata": {},
   "source": [
    "Two main matrix plot types - \n",
    "\n",
    "heatmap() \n",
    "\n",
    "-- Visually displays the distribution of cell values with a color mapping . \n",
    "\n",
    "clustermap()\n",
    "\n",
    "-- same visual as heatmap , but first conducts hierarchical clustering to reorganize data into groups . "
   ]
  },
  {
   "cell_type": "markdown",
   "metadata": {},
   "source": [
    "# Heatmap \n",
    "\n",
    "Note that a heatmap should ideally have all cells be in the same units , so the color mapping makes sense across the entire DataFrame . \n",
    "\n",
    "In this particular case , all values were \"rates\" of percentage growth or change were in the heatmap. \n",
    "\n",
    "Seaborn also comes with the ability to automatically clusetr similar groupings . "
   ]
  },
  {
   "cell_type": "code",
   "execution_count": 1,
   "metadata": {},
   "outputs": [],
   "source": [
    "import numpy as np \n",
    "import pandas as pd  \n",
    "import matplotlib.pyplot as plt \n",
    "import seaborn as sns "
   ]
  },
  {
   "cell_type": "code",
   "execution_count": 9,
   "metadata": {},
   "outputs": [
    {
     "data": {
      "text/html": [
       "<div>\n",
       "<style scoped>\n",
       "    .dataframe tbody tr th:only-of-type {\n",
       "        vertical-align: middle;\n",
       "    }\n",
       "\n",
       "    .dataframe tbody tr th {\n",
       "        vertical-align: top;\n",
       "    }\n",
       "\n",
       "    .dataframe thead th {\n",
       "        text-align: right;\n",
       "    }\n",
       "</style>\n",
       "<table border=\"1\" class=\"dataframe\">\n",
       "  <thead>\n",
       "    <tr style=\"text-align: right;\">\n",
       "      <th></th>\n",
       "      <th>Countries</th>\n",
       "      <th>Birth rate</th>\n",
       "      <th>Mortality rate</th>\n",
       "      <th>Life expectancy</th>\n",
       "      <th>Infant mortality rate</th>\n",
       "      <th>Growth rate</th>\n",
       "    </tr>\n",
       "  </thead>\n",
       "  <tbody>\n",
       "    <tr>\n",
       "      <th>0</th>\n",
       "      <td>AFRICA</td>\n",
       "      <td>32.577</td>\n",
       "      <td>7.837</td>\n",
       "      <td>63.472</td>\n",
       "      <td>44.215</td>\n",
       "      <td>24.40</td>\n",
       "    </tr>\n",
       "    <tr>\n",
       "      <th>1</th>\n",
       "      <td>ASIA</td>\n",
       "      <td>15.796</td>\n",
       "      <td>7.030</td>\n",
       "      <td>73.787</td>\n",
       "      <td>23.185</td>\n",
       "      <td>8.44</td>\n",
       "    </tr>\n",
       "    <tr>\n",
       "      <th>2</th>\n",
       "      <td>EUROPE</td>\n",
       "      <td>10.118</td>\n",
       "      <td>11.163</td>\n",
       "      <td>78.740</td>\n",
       "      <td>3.750</td>\n",
       "      <td>0.38</td>\n",
       "    </tr>\n",
       "    <tr>\n",
       "      <th>3</th>\n",
       "      <td>LATIN AMERICA AND THE CARIBBEAN</td>\n",
       "      <td>15.886</td>\n",
       "      <td>6.444</td>\n",
       "      <td>75.649</td>\n",
       "      <td>14.570</td>\n",
       "      <td>8.89</td>\n",
       "    </tr>\n",
       "    <tr>\n",
       "      <th>4</th>\n",
       "      <td>NORTHERN AMERICA</td>\n",
       "      <td>11.780</td>\n",
       "      <td>8.833</td>\n",
       "      <td>79.269</td>\n",
       "      <td>5.563</td>\n",
       "      <td>6.11</td>\n",
       "    </tr>\n",
       "  </tbody>\n",
       "</table>\n",
       "</div>"
      ],
      "text/plain": [
       "                         Countries  Birth rate  Mortality rate  \\\n",
       "0                           AFRICA      32.577           7.837   \n",
       "1                             ASIA      15.796           7.030   \n",
       "2                           EUROPE      10.118          11.163   \n",
       "3  LATIN AMERICA AND THE CARIBBEAN      15.886           6.444   \n",
       "4                 NORTHERN AMERICA      11.780           8.833   \n",
       "\n",
       "   Life expectancy  Infant mortality rate  Growth rate  \n",
       "0           63.472                 44.215        24.40  \n",
       "1           73.787                 23.185         8.44  \n",
       "2           78.740                  3.750         0.38  \n",
       "3           75.649                 14.570         8.89  \n",
       "4           79.269                  5.563         6.11  "
      ]
     },
     "execution_count": 9,
     "metadata": {},
     "output_type": "execute_result"
    }
   ],
   "source": [
    "df = pd.read_csv('/Applications/My_Laborarory/Experiment/myenv/source/Seaborn/data/country_table.csv')\n",
    "df.head()"
   ]
  },
  {
   "cell_type": "code",
   "execution_count": 10,
   "metadata": {},
   "outputs": [],
   "source": [
    "df = df.set_index(\"Countries\")\n"
   ]
  },
  {
   "cell_type": "code",
   "execution_count": 11,
   "metadata": {},
   "outputs": [
    {
     "data": {
      "text/html": [
       "<div>\n",
       "<style scoped>\n",
       "    .dataframe tbody tr th:only-of-type {\n",
       "        vertical-align: middle;\n",
       "    }\n",
       "\n",
       "    .dataframe tbody tr th {\n",
       "        vertical-align: top;\n",
       "    }\n",
       "\n",
       "    .dataframe thead th {\n",
       "        text-align: right;\n",
       "    }\n",
       "</style>\n",
       "<table border=\"1\" class=\"dataframe\">\n",
       "  <thead>\n",
       "    <tr style=\"text-align: right;\">\n",
       "      <th></th>\n",
       "      <th>Birth rate</th>\n",
       "      <th>Mortality rate</th>\n",
       "      <th>Life expectancy</th>\n",
       "      <th>Infant mortality rate</th>\n",
       "      <th>Growth rate</th>\n",
       "    </tr>\n",
       "    <tr>\n",
       "      <th>Countries</th>\n",
       "      <th></th>\n",
       "      <th></th>\n",
       "      <th></th>\n",
       "      <th></th>\n",
       "      <th></th>\n",
       "    </tr>\n",
       "  </thead>\n",
       "  <tbody>\n",
       "    <tr>\n",
       "      <th>AFRICA</th>\n",
       "      <td>32.577</td>\n",
       "      <td>7.837</td>\n",
       "      <td>63.472</td>\n",
       "      <td>44.215</td>\n",
       "      <td>24.40</td>\n",
       "    </tr>\n",
       "    <tr>\n",
       "      <th>ASIA</th>\n",
       "      <td>15.796</td>\n",
       "      <td>7.030</td>\n",
       "      <td>73.787</td>\n",
       "      <td>23.185</td>\n",
       "      <td>8.44</td>\n",
       "    </tr>\n",
       "    <tr>\n",
       "      <th>EUROPE</th>\n",
       "      <td>10.118</td>\n",
       "      <td>11.163</td>\n",
       "      <td>78.740</td>\n",
       "      <td>3.750</td>\n",
       "      <td>0.38</td>\n",
       "    </tr>\n",
       "    <tr>\n",
       "      <th>LATIN AMERICA AND THE CARIBBEAN</th>\n",
       "      <td>15.886</td>\n",
       "      <td>6.444</td>\n",
       "      <td>75.649</td>\n",
       "      <td>14.570</td>\n",
       "      <td>8.89</td>\n",
       "    </tr>\n",
       "    <tr>\n",
       "      <th>NORTHERN AMERICA</th>\n",
       "      <td>11.780</td>\n",
       "      <td>8.833</td>\n",
       "      <td>79.269</td>\n",
       "      <td>5.563</td>\n",
       "      <td>6.11</td>\n",
       "    </tr>\n",
       "    <tr>\n",
       "      <th>OCEANIA</th>\n",
       "      <td>16.235</td>\n",
       "      <td>6.788</td>\n",
       "      <td>78.880</td>\n",
       "      <td>16.939</td>\n",
       "      <td>12.79</td>\n",
       "    </tr>\n",
       "    <tr>\n",
       "      <th>WORLD</th>\n",
       "      <td>17.963</td>\n",
       "      <td>7.601</td>\n",
       "      <td>72.766</td>\n",
       "      <td>27.492</td>\n",
       "      <td>10.36</td>\n",
       "    </tr>\n",
       "  </tbody>\n",
       "</table>\n",
       "</div>"
      ],
      "text/plain": [
       "                                 Birth rate  Mortality rate  Life expectancy  \\\n",
       "Countries                                                                      \n",
       "AFRICA                               32.577           7.837           63.472   \n",
       "ASIA                                 15.796           7.030           73.787   \n",
       "EUROPE                               10.118          11.163           78.740   \n",
       "LATIN AMERICA AND THE CARIBBEAN      15.886           6.444           75.649   \n",
       "NORTHERN AMERICA                     11.780           8.833           79.269   \n",
       "OCEANIA                              16.235           6.788           78.880   \n",
       "WORLD                                17.963           7.601           72.766   \n",
       "\n",
       "                                 Infant mortality rate  Growth rate  \n",
       "Countries                                                            \n",
       "AFRICA                                          44.215        24.40  \n",
       "ASIA                                            23.185         8.44  \n",
       "EUROPE                                           3.750         0.38  \n",
       "LATIN AMERICA AND THE CARIBBEAN                 14.570         8.89  \n",
       "NORTHERN AMERICA                                 5.563         6.11  \n",
       "OCEANIA                                         16.939        12.79  \n",
       "WORLD                                           27.492        10.36  "
      ]
     },
     "execution_count": 11,
     "metadata": {},
     "output_type": "execute_result"
    }
   ],
   "source": [
    "df"
   ]
  },
  {
   "cell_type": "code",
   "execution_count": 19,
   "metadata": {},
   "outputs": [
    {
     "data": {
      "text/plain": [
       "<Axes: ylabel='Countries'>"
      ]
     },
     "execution_count": 19,
     "metadata": {},
     "output_type": "execute_result"
    },
    {
     "data": {
      "image/png": "[encoded data removed]",
      "text/plain": [
       "<Figure size 640x480 with 2 Axes>"
      ]
     },
     "metadata": {},
     "output_type": "display_data"
    }
   ],
   "source": [
    "sns.heatmap(df.drop('Life expectancy',axis=1),linewidth=0.5,annot=True,cmap='viridis')"
   ]
  },
  {
   "cell_type": "code",
   "execution_count": 22,
   "metadata": {},
   "outputs": [
    {
     "ename": "RuntimeError",
     "evalue": "clustermap requires scipy to be available",
     "output_type": "error",
     "traceback": [
      "\u001b[0;31m---------------------------------------------------------------------------\u001b[0m",
      "\u001b[0;31mRuntimeError\u001b[0m                              Traceback (most recent call last)",
      "Cell \u001b[0;32mIn[22], line 1\u001b[0m\n\u001b[0;32m----> 1\u001b[0m \u001b[43msns\u001b[49m\u001b[38;5;241;43m.\u001b[39;49m\u001b[43mclustermap\u001b[49m\u001b[43m(\u001b[49m\u001b[43mdf\u001b[49m\u001b[38;5;241;43m.\u001b[39;49m\u001b[43mdrop\u001b[49m\u001b[43m(\u001b[49m\u001b[38;5;124;43m'\u001b[39;49m\u001b[38;5;124;43mLife expectancy\u001b[39;49m\u001b[38;5;124;43m'\u001b[39;49m\u001b[43m,\u001b[49m\u001b[43maxis\u001b[49m\u001b[38;5;241;43m=\u001b[39;49m\u001b[38;5;241;43m1\u001b[39;49m\u001b[43m)\u001b[49m\u001b[43m,\u001b[49m\u001b[43mlinewidth\u001b[49m\u001b[38;5;241;43m=\u001b[39;49m\u001b[38;5;241;43m0.5\u001b[39;49m\u001b[43m,\u001b[49m\u001b[43mannot\u001b[49m\u001b[38;5;241;43m=\u001b[39;49m\u001b[38;5;28;43;01mTrue\u001b[39;49;00m\u001b[43m,\u001b[49m\u001b[43mcmap\u001b[49m\u001b[38;5;241;43m=\u001b[39;49m\u001b[38;5;124;43m'\u001b[39;49m\u001b[38;5;124;43mviridis\u001b[39;49m\u001b[38;5;124;43m'\u001b[39;49m\u001b[43m,\u001b[49m\u001b[43mcol_cluster\u001b[49m\u001b[38;5;241;43m=\u001b[39;49m\u001b[38;5;28;43;01mFalse\u001b[39;49;00m\u001b[43m)\u001b[49m\n",
      "File \u001b[0;32m/Applications/My_Laborarory/Experiment/myenv/lib/python3.12/site-packages/seaborn/matrix.py:1250\u001b[0m, in \u001b[0;36mclustermap\u001b[0;34m(data, pivot_kws, method, metric, z_score, standard_scale, figsize, cbar_kws, row_cluster, col_cluster, row_linkage, col_linkage, row_colors, col_colors, mask, dendrogram_ratio, colors_ratio, cbar_pos, tree_kws, **kwargs)\u001b[0m\n\u001b[1;32m   1157\u001b[0m \u001b[38;5;250m\u001b[39m\u001b[38;5;124;03m\"\"\"\u001b[39;00m\n\u001b[1;32m   1158\u001b[0m \u001b[38;5;124;03mPlot a matrix dataset as a hierarchically-clustered heatmap.\u001b[39;00m\n\u001b[1;32m   1159\u001b[0m \n\u001b[0;32m   (...)\u001b[0m\n\u001b[1;32m   1247\u001b[0m \n\u001b[1;32m   1248\u001b[0m \u001b[38;5;124;03m\"\"\"\u001b[39;00m\n\u001b[1;32m   1249\u001b[0m \u001b[38;5;28;01mif\u001b[39;00m _no_scipy:\n\u001b[0;32m-> 1250\u001b[0m     \u001b[38;5;28;01mraise\u001b[39;00m \u001b[38;5;167;01mRuntimeError\u001b[39;00m(\u001b[38;5;124m\"\u001b[39m\u001b[38;5;124mclustermap requires scipy to be available\u001b[39m\u001b[38;5;124m\"\u001b[39m)\n\u001b[1;32m   1252\u001b[0m plotter \u001b[38;5;241m=\u001b[39m ClusterGrid(data, pivot_kws\u001b[38;5;241m=\u001b[39mpivot_kws, figsize\u001b[38;5;241m=\u001b[39mfigsize,\n\u001b[1;32m   1253\u001b[0m                       row_colors\u001b[38;5;241m=\u001b[39mrow_colors, col_colors\u001b[38;5;241m=\u001b[39mcol_colors,\n\u001b[1;32m   1254\u001b[0m                       z_score\u001b[38;5;241m=\u001b[39mz_score, standard_scale\u001b[38;5;241m=\u001b[39mstandard_scale,\n\u001b[1;32m   1255\u001b[0m                       mask\u001b[38;5;241m=\u001b[39mmask, dendrogram_ratio\u001b[38;5;241m=\u001b[39mdendrogram_ratio,\n\u001b[1;32m   1256\u001b[0m                       colors_ratio\u001b[38;5;241m=\u001b[39mcolors_ratio, cbar_pos\u001b[38;5;241m=\u001b[39mcbar_pos)\n\u001b[1;32m   1258\u001b[0m \u001b[38;5;28;01mreturn\u001b[39;00m plotter\u001b[38;5;241m.\u001b[39mplot(metric\u001b[38;5;241m=\u001b[39mmetric, method\u001b[38;5;241m=\u001b[39mmethod,\n\u001b[1;32m   1259\u001b[0m                     colorbar_kws\u001b[38;5;241m=\u001b[39mcbar_kws,\n\u001b[1;32m   1260\u001b[0m                     row_cluster\u001b[38;5;241m=\u001b[39mrow_cluster, col_cluster\u001b[38;5;241m=\u001b[39mcol_cluster,\n\u001b[1;32m   1261\u001b[0m                     row_linkage\u001b[38;5;241m=\u001b[39mrow_linkage, col_linkage\u001b[38;5;241m=\u001b[39mcol_linkage,\n\u001b[1;32m   1262\u001b[0m                     tree_kws\u001b[38;5;241m=\u001b[39mtree_kws, \u001b[38;5;241m*\u001b[39m\u001b[38;5;241m*\u001b[39mkwargs)\n",
      "\u001b[0;31mRuntimeError\u001b[0m: clustermap requires scipy to be available"
     ]
    }
   ],
   "source": [
    "sns.clustermap(df.drop('Life expectancy',axis=1),linewidth=0.5,annot=True,cmap='viridis',col_cluster=False)"
   ]
  },
  {
   "cell_type": "code",
   "execution_count": null,
   "metadata": {},
   "outputs": [],
   "source": []
  }
 ],
 "metadata": {
  "kernelspec": {
   "display_name": "myenv",
   "language": "python",
   "name": "python3"
  },
  "language_info": {
   "codemirror_mode": {
    "name": "ipython",
    "version": 3
   },
   "file_extension": ".py",
   "mimetype": "text/x-python",
   "name": "python",
   "nbconvert_exporter": "python",
   "pygments_lexer": "ipython3",
   "version": "3.12.3"
  }
 },
 "nbformat": 4,
 "nbformat_minor": 2
}
