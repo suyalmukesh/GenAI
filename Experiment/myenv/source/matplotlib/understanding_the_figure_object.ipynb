{
 "cells": [
  {
   "cell_type": "markdown",
   "metadata": {},
   "source": [
    "# Matplotlib - Figure Object \n",
    "\n",
    "#### Understanding the figure \n",
    "\n",
    "```\n",
    "    -- The more comprehensive Matplotlib OOP API makes use of a figure object . \n",
    "    -- We then add axes to this Figure object and then plot on those axes.\n",
    "    -- This allows for very robust controls over the entire plot .\n",
    "\n",
    "```"
   ]
  },
  {
   "cell_type": "code",
   "execution_count": 80,
   "metadata": {},
   "outputs": [],
   "source": [
    "import matplotlib.pyplot as plt\n",
    "\n",
    "import numpy as np"
   ]
  },
  {
   "cell_type": "code",
   "execution_count": 72,
   "metadata": {},
   "outputs": [
    {
     "data": {
      "text/plain": [
       "<Figure size 640x480 with 0 Axes>"
      ]
     },
     "metadata": {},
     "output_type": "display_data"
    }
   ],
   "source": [
    "fig = plt.figure()"
   ]
  },
  {
   "cell_type": "code",
   "execution_count": 73,
   "metadata": {},
   "outputs": [],
   "source": [
    "x = np.arange(0,10)\n",
    "y = 2*x"
   ]
  },
  {
   "cell_type": "code",
   "execution_count": 81,
   "metadata": {},
   "outputs": [
    {
     "data": {
      "text/plain": [
       "[<matplotlib.lines.Line2D at 0x1285560c0>]"
      ]
     },
     "execution_count": 81,
     "metadata": {},
     "output_type": "execute_result"
    }
   ],
   "source": [
    "%matplotlib inline\n",
    "axes = fig.add_axes([0,0,1,1])\n",
    "axes.plot(x,y)\n",
    "#plt.show()"
   ]
  },
  {
   "cell_type": "code",
   "execution_count": 75,
   "metadata": {},
   "outputs": [
    {
     "data": {
      "text/plain": [
       "<Axes: >"
      ]
     },
     "execution_count": 75,
     "metadata": {},
     "output_type": "execute_result"
    }
   ],
   "source": [
    "axes"
   ]
  },
  {
   "cell_type": "code",
   "execution_count": 76,
   "metadata": {},
   "outputs": [],
   "source": [
    "# pip install --upgrade matplotlib\n"
   ]
  },
  {
   "cell_type": "code",
   "execution_count": 77,
   "metadata": {},
   "outputs": [
    {
     "name": "stdout",
     "output_type": "stream",
     "text": [
      "Requirement already satisfied: ipympl in /Applications/My_Laborarory/Experiment/myenv/lib/python3.12/site-packages (0.9.4)\n",
      "Requirement already satisfied: ipython-genutils in /Applications/My_Laborarory/Experiment/myenv/lib/python3.12/site-packages (from ipympl) (0.2.0)\n",
      "Requirement already satisfied: ipython<9 in /Applications/My_Laborarory/Experiment/myenv/lib/python3.12/site-packages (from ipympl) (8.24.0)\n",
      "Requirement already satisfied: ipywidgets<9,>=7.6.0 in /Applications/My_Laborarory/Experiment/myenv/lib/python3.12/site-packages (from ipympl) (7.7.2)\n",
      "Requirement already satisfied: matplotlib<4,>=3.4.0 in /Applications/My_Laborarory/Experiment/myenv/lib/python3.12/site-packages (from ipympl) (3.9.0)\n",
      "Requirement already satisfied: numpy in /Applications/My_Laborarory/Experiment/myenv/lib/python3.12/site-packages (from ipympl) (1.26.4)\n",
      "Requirement already satisfied: pillow in /Applications/My_Laborarory/Experiment/myenv/lib/python3.12/site-packages (from ipympl) (10.3.0)\n",
      "Requirement already satisfied: traitlets<6 in /Applications/My_Laborarory/Experiment/myenv/lib/python3.12/site-packages (from ipympl) (5.14.3)\n",
      "Requirement already satisfied: decorator in /Applications/My_Laborarory/Experiment/myenv/lib/python3.12/site-packages (from ipython<9->ipympl) (5.1.1)\n",
      "Requirement already satisfied: jedi>=0.16 in /Applications/My_Laborarory/Experiment/myenv/lib/python3.12/site-packages (from ipython<9->ipympl) (0.19.1)\n",
      "Requirement already satisfied: matplotlib-inline in /Applications/My_Laborarory/Experiment/myenv/lib/python3.12/site-packages (from ipython<9->ipympl) (0.1.7)\n",
      "Requirement already satisfied: prompt-toolkit<3.1.0,>=3.0.41 in /Applications/My_Laborarory/Experiment/myenv/lib/python3.12/site-packages (from ipython<9->ipympl) (3.0.43)\n",
      "Requirement already satisfied: pygments>=2.4.0 in /Applications/My_Laborarory/Experiment/myenv/lib/python3.12/site-packages (from ipython<9->ipympl) (2.18.0)\n",
      "Requirement already satisfied: stack-data in /Applications/My_Laborarory/Experiment/myenv/lib/python3.12/site-packages (from ipython<9->ipympl) (0.6.3)\n",
      "Requirement already satisfied: pexpect>4.3 in /Applications/My_Laborarory/Experiment/myenv/lib/python3.12/site-packages (from ipython<9->ipympl) (4.9.0)\n",
      "Requirement already satisfied: ipykernel>=4.5.1 in /Applications/My_Laborarory/Experiment/myenv/lib/python3.12/site-packages (from ipywidgets<9,>=7.6.0->ipympl) (6.29.4)\n",
      "Requirement already satisfied: widgetsnbextension~=3.6.0 in /Applications/My_Laborarory/Experiment/myenv/lib/python3.12/site-packages (from ipywidgets<9,>=7.6.0->ipympl) (3.6.6)\n",
      "Requirement already satisfied: jupyterlab-widgets<3,>=1.0.0 in /Applications/My_Laborarory/Experiment/myenv/lib/python3.12/site-packages (from ipywidgets<9,>=7.6.0->ipympl) (1.1.7)\n",
      "Requirement already satisfied: contourpy>=1.0.1 in /Applications/My_Laborarory/Experiment/myenv/lib/python3.12/site-packages (from matplotlib<4,>=3.4.0->ipympl) (1.2.1)\n",
      "Requirement already satisfied: cycler>=0.10 in /Applications/My_Laborarory/Experiment/myenv/lib/python3.12/site-packages (from matplotlib<4,>=3.4.0->ipympl) (0.12.1)\n",
      "Requirement already satisfied: fonttools>=4.22.0 in /Applications/My_Laborarory/Experiment/myenv/lib/python3.12/site-packages (from matplotlib<4,>=3.4.0->ipympl) (4.52.1)\n",
      "Requirement already satisfied: kiwisolver>=1.3.1 in /Applications/My_Laborarory/Experiment/myenv/lib/python3.12/site-packages (from matplotlib<4,>=3.4.0->ipympl) (1.4.5)\n",
      "Requirement already satisfied: packaging>=20.0 in /Applications/My_Laborarory/Experiment/myenv/lib/python3.12/site-packages (from matplotlib<4,>=3.4.0->ipympl) (24.0)\n",
      "Requirement already satisfied: pyparsing>=2.3.1 in /Applications/My_Laborarory/Experiment/myenv/lib/python3.12/site-packages (from matplotlib<4,>=3.4.0->ipympl) (3.1.2)\n",
      "Requirement already satisfied: python-dateutil>=2.7 in /Applications/My_Laborarory/Experiment/myenv/lib/python3.12/site-packages (from matplotlib<4,>=3.4.0->ipympl) (2.9.0.post0)\n",
      "Requirement already satisfied: appnope in /Applications/My_Laborarory/Experiment/myenv/lib/python3.12/site-packages (from ipykernel>=4.5.1->ipywidgets<9,>=7.6.0->ipympl) (0.1.4)\n",
      "Requirement already satisfied: comm>=0.1.1 in /Applications/My_Laborarory/Experiment/myenv/lib/python3.12/site-packages (from ipykernel>=4.5.1->ipywidgets<9,>=7.6.0->ipympl) (0.2.2)\n",
      "Requirement already satisfied: debugpy>=1.6.5 in /Applications/My_Laborarory/Experiment/myenv/lib/python3.12/site-packages (from ipykernel>=4.5.1->ipywidgets<9,>=7.6.0->ipympl) (1.8.1)\n",
      "Requirement already satisfied: jupyter-client>=6.1.12 in /Applications/My_Laborarory/Experiment/myenv/lib/python3.12/site-packages (from ipykernel>=4.5.1->ipywidgets<9,>=7.6.0->ipympl) (8.6.1)\n",
      "Requirement already satisfied: jupyter-core!=5.0.*,>=4.12 in /Applications/My_Laborarory/Experiment/myenv/lib/python3.12/site-packages (from ipykernel>=4.5.1->ipywidgets<9,>=7.6.0->ipympl) (5.7.2)\n",
      "Requirement already satisfied: nest-asyncio in /Applications/My_Laborarory/Experiment/myenv/lib/python3.12/site-packages (from ipykernel>=4.5.1->ipywidgets<9,>=7.6.0->ipympl) (1.6.0)\n",
      "Requirement already satisfied: psutil in /Applications/My_Laborarory/Experiment/myenv/lib/python3.12/site-packages (from ipykernel>=4.5.1->ipywidgets<9,>=7.6.0->ipympl) (5.9.8)\n",
      "Requirement already satisfied: pyzmq>=24 in /Applications/My_Laborarory/Experiment/myenv/lib/python3.12/site-packages (from ipykernel>=4.5.1->ipywidgets<9,>=7.6.0->ipympl) (26.0.3)\n",
      "Requirement already satisfied: tornado>=6.1 in /Applications/My_Laborarory/Experiment/myenv/lib/python3.12/site-packages (from ipykernel>=4.5.1->ipywidgets<9,>=7.6.0->ipympl) (6.4)\n",
      "Requirement already satisfied: parso<0.9.0,>=0.8.3 in /Applications/My_Laborarory/Experiment/myenv/lib/python3.12/site-packages (from jedi>=0.16->ipython<9->ipympl) (0.8.4)\n",
      "Requirement already satisfied: ptyprocess>=0.5 in /Applications/My_Laborarory/Experiment/myenv/lib/python3.12/site-packages (from pexpect>4.3->ipython<9->ipympl) (0.7.0)\n",
      "Requirement already satisfied: wcwidth in /Applications/My_Laborarory/Experiment/myenv/lib/python3.12/site-packages (from prompt-toolkit<3.1.0,>=3.0.41->ipython<9->ipympl) (0.2.13)\n",
      "Requirement already satisfied: six>=1.5 in /Applications/My_Laborarory/Experiment/myenv/lib/python3.12/site-packages (from python-dateutil>=2.7->matplotlib<4,>=3.4.0->ipympl) (1.16.0)\n",
      "Requirement already satisfied: notebook>=4.4.1 in /Applications/My_Laborarory/Experiment/myenv/lib/python3.12/site-packages (from widgetsnbextension~=3.6.0->ipywidgets<9,>=7.6.0->ipympl) (7.2.0)\n",
      "Requirement already satisfied: executing>=1.2.0 in /Applications/My_Laborarory/Experiment/myenv/lib/python3.12/site-packages (from stack-data->ipython<9->ipympl) (2.0.1)\n",
      "Requirement already satisfied: asttokens>=2.1.0 in /Applications/My_Laborarory/Experiment/myenv/lib/python3.12/site-packages (from stack-data->ipython<9->ipympl) (2.4.1)\n",
      "Requirement already satisfied: pure-eval in /Applications/My_Laborarory/Experiment/myenv/lib/python3.12/site-packages (from stack-data->ipython<9->ipympl) (0.2.2)\n",
      "Requirement already satisfied: platformdirs>=2.5 in /Applications/My_Laborarory/Experiment/myenv/lib/python3.12/site-packages (from jupyter-core!=5.0.*,>=4.12->ipykernel>=4.5.1->ipywidgets<9,>=7.6.0->ipympl) (4.2.2)\n",
      "Requirement already satisfied: jupyter-server<3,>=2.4.0 in /Applications/My_Laborarory/Experiment/myenv/lib/python3.12/site-packages (from notebook>=4.4.1->widgetsnbextension~=3.6.0->ipywidgets<9,>=7.6.0->ipympl) (2.14.0)\n",
      "Requirement already satisfied: jupyterlab-server<3,>=2.27.1 in /Applications/My_Laborarory/Experiment/myenv/lib/python3.12/site-packages (from notebook>=4.4.1->widgetsnbextension~=3.6.0->ipywidgets<9,>=7.6.0->ipympl) (2.27.1)\n",
      "Requirement already satisfied: jupyterlab<4.3,>=4.2.0 in /Applications/My_Laborarory/Experiment/myenv/lib/python3.12/site-packages (from notebook>=4.4.1->widgetsnbextension~=3.6.0->ipywidgets<9,>=7.6.0->ipympl) (4.2.0)\n",
      "Requirement already satisfied: notebook-shim<0.3,>=0.2 in /Applications/My_Laborarory/Experiment/myenv/lib/python3.12/site-packages (from notebook>=4.4.1->widgetsnbextension~=3.6.0->ipywidgets<9,>=7.6.0->ipympl) (0.2.4)\n",
      "Requirement already satisfied: anyio>=3.1.0 in /Applications/My_Laborarory/Experiment/myenv/lib/python3.12/site-packages (from jupyter-server<3,>=2.4.0->notebook>=4.4.1->widgetsnbextension~=3.6.0->ipywidgets<9,>=7.6.0->ipympl) (4.3.0)\n",
      "Requirement already satisfied: argon2-cffi>=21.1 in /Applications/My_Laborarory/Experiment/myenv/lib/python3.12/site-packages (from jupyter-server<3,>=2.4.0->notebook>=4.4.1->widgetsnbextension~=3.6.0->ipywidgets<9,>=7.6.0->ipympl) (23.1.0)\n",
      "Requirement already satisfied: jinja2>=3.0.3 in /Applications/My_Laborarory/Experiment/myenv/lib/python3.12/site-packages (from jupyter-server<3,>=2.4.0->notebook>=4.4.1->widgetsnbextension~=3.6.0->ipywidgets<9,>=7.6.0->ipympl) (3.1.4)\n",
      "Requirement already satisfied: jupyter-events>=0.9.0 in /Applications/My_Laborarory/Experiment/myenv/lib/python3.12/site-packages (from jupyter-server<3,>=2.4.0->notebook>=4.4.1->widgetsnbextension~=3.6.0->ipywidgets<9,>=7.6.0->ipympl) (0.10.0)\n",
      "Requirement already satisfied: jupyter-server-terminals>=0.4.4 in /Applications/My_Laborarory/Experiment/myenv/lib/python3.12/site-packages (from jupyter-server<3,>=2.4.0->notebook>=4.4.1->widgetsnbextension~=3.6.0->ipywidgets<9,>=7.6.0->ipympl) (0.5.3)\n",
      "Requirement already satisfied: nbconvert>=6.4.4 in /Applications/My_Laborarory/Experiment/myenv/lib/python3.12/site-packages (from jupyter-server<3,>=2.4.0->notebook>=4.4.1->widgetsnbextension~=3.6.0->ipywidgets<9,>=7.6.0->ipympl) (7.16.4)\n",
      "Requirement already satisfied: nbformat>=5.3.0 in /Applications/My_Laborarory/Experiment/myenv/lib/python3.12/site-packages (from jupyter-server<3,>=2.4.0->notebook>=4.4.1->widgetsnbextension~=3.6.0->ipywidgets<9,>=7.6.0->ipympl) (5.10.4)\n",
      "Requirement already satisfied: overrides>=5.0 in /Applications/My_Laborarory/Experiment/myenv/lib/python3.12/site-packages (from jupyter-server<3,>=2.4.0->notebook>=4.4.1->widgetsnbextension~=3.6.0->ipywidgets<9,>=7.6.0->ipympl) (7.7.0)\n",
      "Requirement already satisfied: prometheus-client>=0.9 in /Applications/My_Laborarory/Experiment/myenv/lib/python3.12/site-packages (from jupyter-server<3,>=2.4.0->notebook>=4.4.1->widgetsnbextension~=3.6.0->ipywidgets<9,>=7.6.0->ipympl) (0.20.0)\n",
      "Requirement already satisfied: send2trash>=1.8.2 in /Applications/My_Laborarory/Experiment/myenv/lib/python3.12/site-packages (from jupyter-server<3,>=2.4.0->notebook>=4.4.1->widgetsnbextension~=3.6.0->ipywidgets<9,>=7.6.0->ipympl) (1.8.3)\n",
      "Requirement already satisfied: terminado>=0.8.3 in /Applications/My_Laborarory/Experiment/myenv/lib/python3.12/site-packages (from jupyter-server<3,>=2.4.0->notebook>=4.4.1->widgetsnbextension~=3.6.0->ipywidgets<9,>=7.6.0->ipympl) (0.18.1)\n",
      "Requirement already satisfied: websocket-client>=1.7 in /Applications/My_Laborarory/Experiment/myenv/lib/python3.12/site-packages (from jupyter-server<3,>=2.4.0->notebook>=4.4.1->widgetsnbextension~=3.6.0->ipywidgets<9,>=7.6.0->ipympl) (1.8.0)\n",
      "Requirement already satisfied: async-lru>=1.0.0 in /Applications/My_Laborarory/Experiment/myenv/lib/python3.12/site-packages (from jupyterlab<4.3,>=4.2.0->notebook>=4.4.1->widgetsnbextension~=3.6.0->ipywidgets<9,>=7.6.0->ipympl) (2.0.4)\n",
      "Requirement already satisfied: httpx>=0.25.0 in /Applications/My_Laborarory/Experiment/myenv/lib/python3.12/site-packages (from jupyterlab<4.3,>=4.2.0->notebook>=4.4.1->widgetsnbextension~=3.6.0->ipywidgets<9,>=7.6.0->ipympl) (0.27.0)\n",
      "Requirement already satisfied: jupyter-lsp>=2.0.0 in /Applications/My_Laborarory/Experiment/myenv/lib/python3.12/site-packages (from jupyterlab<4.3,>=4.2.0->notebook>=4.4.1->widgetsnbextension~=3.6.0->ipywidgets<9,>=7.6.0->ipympl) (2.2.5)\n",
      "Requirement already satisfied: babel>=2.10 in /Applications/My_Laborarory/Experiment/myenv/lib/python3.12/site-packages (from jupyterlab-server<3,>=2.27.1->notebook>=4.4.1->widgetsnbextension~=3.6.0->ipywidgets<9,>=7.6.0->ipympl) (2.15.0)\n",
      "Requirement already satisfied: json5>=0.9.0 in /Applications/My_Laborarory/Experiment/myenv/lib/python3.12/site-packages (from jupyterlab-server<3,>=2.27.1->notebook>=4.4.1->widgetsnbextension~=3.6.0->ipywidgets<9,>=7.6.0->ipympl) (0.9.25)\n",
      "Requirement already satisfied: jsonschema>=4.18.0 in /Applications/My_Laborarory/Experiment/myenv/lib/python3.12/site-packages (from jupyterlab-server<3,>=2.27.1->notebook>=4.4.1->widgetsnbextension~=3.6.0->ipywidgets<9,>=7.6.0->ipympl) (4.22.0)\n",
      "Requirement already satisfied: requests>=2.31 in /Applications/My_Laborarory/Experiment/myenv/lib/python3.12/site-packages (from jupyterlab-server<3,>=2.27.1->notebook>=4.4.1->widgetsnbextension~=3.6.0->ipywidgets<9,>=7.6.0->ipympl) (2.31.0)\n",
      "Requirement already satisfied: idna>=2.8 in /Applications/My_Laborarory/Experiment/myenv/lib/python3.12/site-packages (from anyio>=3.1.0->jupyter-server<3,>=2.4.0->notebook>=4.4.1->widgetsnbextension~=3.6.0->ipywidgets<9,>=7.6.0->ipympl) (3.7)\n",
      "Requirement already satisfied: sniffio>=1.1 in /Applications/My_Laborarory/Experiment/myenv/lib/python3.12/site-packages (from anyio>=3.1.0->jupyter-server<3,>=2.4.0->notebook>=4.4.1->widgetsnbextension~=3.6.0->ipywidgets<9,>=7.6.0->ipympl) (1.3.1)\n",
      "Requirement already satisfied: argon2-cffi-bindings in /Applications/My_Laborarory/Experiment/myenv/lib/python3.12/site-packages (from argon2-cffi>=21.1->jupyter-server<3,>=2.4.0->notebook>=4.4.1->widgetsnbextension~=3.6.0->ipywidgets<9,>=7.6.0->ipympl) (21.2.0)\n",
      "Requirement already satisfied: certifi in /Applications/My_Laborarory/Experiment/myenv/lib/python3.12/site-packages (from httpx>=0.25.0->jupyterlab<4.3,>=4.2.0->notebook>=4.4.1->widgetsnbextension~=3.6.0->ipywidgets<9,>=7.6.0->ipympl) (2024.2.2)\n",
      "Requirement already satisfied: httpcore==1.* in /Applications/My_Laborarory/Experiment/myenv/lib/python3.12/site-packages (from httpx>=0.25.0->jupyterlab<4.3,>=4.2.0->notebook>=4.4.1->widgetsnbextension~=3.6.0->ipywidgets<9,>=7.6.0->ipympl) (1.0.5)\n",
      "Requirement already satisfied: h11<0.15,>=0.13 in /Applications/My_Laborarory/Experiment/myenv/lib/python3.12/site-packages (from httpcore==1.*->httpx>=0.25.0->jupyterlab<4.3,>=4.2.0->notebook>=4.4.1->widgetsnbextension~=3.6.0->ipywidgets<9,>=7.6.0->ipympl) (0.14.0)\n",
      "Requirement already satisfied: MarkupSafe>=2.0 in /Applications/My_Laborarory/Experiment/myenv/lib/python3.12/site-packages (from jinja2>=3.0.3->jupyter-server<3,>=2.4.0->notebook>=4.4.1->widgetsnbextension~=3.6.0->ipywidgets<9,>=7.6.0->ipympl) (2.1.5)\n",
      "Requirement already satisfied: attrs>=22.2.0 in /Applications/My_Laborarory/Experiment/myenv/lib/python3.12/site-packages (from jsonschema>=4.18.0->jupyterlab-server<3,>=2.27.1->notebook>=4.4.1->widgetsnbextension~=3.6.0->ipywidgets<9,>=7.6.0->ipympl) (23.2.0)\n",
      "Requirement already satisfied: jsonschema-specifications>=2023.03.6 in /Applications/My_Laborarory/Experiment/myenv/lib/python3.12/site-packages (from jsonschema>=4.18.0->jupyterlab-server<3,>=2.27.1->notebook>=4.4.1->widgetsnbextension~=3.6.0->ipywidgets<9,>=7.6.0->ipympl) (2023.12.1)\n",
      "Requirement already satisfied: referencing>=0.28.4 in /Applications/My_Laborarory/Experiment/myenv/lib/python3.12/site-packages (from jsonschema>=4.18.0->jupyterlab-server<3,>=2.27.1->notebook>=4.4.1->widgetsnbextension~=3.6.0->ipywidgets<9,>=7.6.0->ipympl) (0.35.1)\n",
      "Requirement already satisfied: rpds-py>=0.7.1 in /Applications/My_Laborarory/Experiment/myenv/lib/python3.12/site-packages (from jsonschema>=4.18.0->jupyterlab-server<3,>=2.27.1->notebook>=4.4.1->widgetsnbextension~=3.6.0->ipywidgets<9,>=7.6.0->ipympl) (0.18.1)\n",
      "Requirement already satisfied: python-json-logger>=2.0.4 in /Applications/My_Laborarory/Experiment/myenv/lib/python3.12/site-packages (from jupyter-events>=0.9.0->jupyter-server<3,>=2.4.0->notebook>=4.4.1->widgetsnbextension~=3.6.0->ipywidgets<9,>=7.6.0->ipympl) (2.0.7)\n",
      "Requirement already satisfied: pyyaml>=5.3 in /Applications/My_Laborarory/Experiment/myenv/lib/python3.12/site-packages (from jupyter-events>=0.9.0->jupyter-server<3,>=2.4.0->notebook>=4.4.1->widgetsnbextension~=3.6.0->ipywidgets<9,>=7.6.0->ipympl) (6.0.1)\n",
      "Requirement already satisfied: rfc3339-validator in /Applications/My_Laborarory/Experiment/myenv/lib/python3.12/site-packages (from jupyter-events>=0.9.0->jupyter-server<3,>=2.4.0->notebook>=4.4.1->widgetsnbextension~=3.6.0->ipywidgets<9,>=7.6.0->ipympl) (0.1.4)\n",
      "Requirement already satisfied: rfc3986-validator>=0.1.1 in /Applications/My_Laborarory/Experiment/myenv/lib/python3.12/site-packages (from jupyter-events>=0.9.0->jupyter-server<3,>=2.4.0->notebook>=4.4.1->widgetsnbextension~=3.6.0->ipywidgets<9,>=7.6.0->ipympl) (0.1.1)\n",
      "Requirement already satisfied: beautifulsoup4 in /Applications/My_Laborarory/Experiment/myenv/lib/python3.12/site-packages (from nbconvert>=6.4.4->jupyter-server<3,>=2.4.0->notebook>=4.4.1->widgetsnbextension~=3.6.0->ipywidgets<9,>=7.6.0->ipympl) (4.12.3)\n",
      "Requirement already satisfied: bleach!=5.0.0 in /Applications/My_Laborarory/Experiment/myenv/lib/python3.12/site-packages (from nbconvert>=6.4.4->jupyter-server<3,>=2.4.0->notebook>=4.4.1->widgetsnbextension~=3.6.0->ipywidgets<9,>=7.6.0->ipympl) (6.1.0)\n",
      "Requirement already satisfied: defusedxml in /Applications/My_Laborarory/Experiment/myenv/lib/python3.12/site-packages (from nbconvert>=6.4.4->jupyter-server<3,>=2.4.0->notebook>=4.4.1->widgetsnbextension~=3.6.0->ipywidgets<9,>=7.6.0->ipympl) (0.7.1)\n",
      "Requirement already satisfied: jupyterlab-pygments in /Applications/My_Laborarory/Experiment/myenv/lib/python3.12/site-packages (from nbconvert>=6.4.4->jupyter-server<3,>=2.4.0->notebook>=4.4.1->widgetsnbextension~=3.6.0->ipywidgets<9,>=7.6.0->ipympl) (0.3.0)\n",
      "Requirement already satisfied: mistune<4,>=2.0.3 in /Applications/My_Laborarory/Experiment/myenv/lib/python3.12/site-packages (from nbconvert>=6.4.4->jupyter-server<3,>=2.4.0->notebook>=4.4.1->widgetsnbextension~=3.6.0->ipywidgets<9,>=7.6.0->ipympl) (3.0.2)\n",
      "Requirement already satisfied: nbclient>=0.5.0 in /Applications/My_Laborarory/Experiment/myenv/lib/python3.12/site-packages (from nbconvert>=6.4.4->jupyter-server<3,>=2.4.0->notebook>=4.4.1->widgetsnbextension~=3.6.0->ipywidgets<9,>=7.6.0->ipympl) (0.10.0)\n",
      "Requirement already satisfied: pandocfilters>=1.4.1 in /Applications/My_Laborarory/Experiment/myenv/lib/python3.12/site-packages (from nbconvert>=6.4.4->jupyter-server<3,>=2.4.0->notebook>=4.4.1->widgetsnbextension~=3.6.0->ipywidgets<9,>=7.6.0->ipympl) (1.5.1)\n",
      "Requirement already satisfied: tinycss2 in /Applications/My_Laborarory/Experiment/myenv/lib/python3.12/site-packages (from nbconvert>=6.4.4->jupyter-server<3,>=2.4.0->notebook>=4.4.1->widgetsnbextension~=3.6.0->ipywidgets<9,>=7.6.0->ipympl) (1.3.0)\n",
      "Requirement already satisfied: fastjsonschema>=2.15 in /Applications/My_Laborarory/Experiment/myenv/lib/python3.12/site-packages (from nbformat>=5.3.0->jupyter-server<3,>=2.4.0->notebook>=4.4.1->widgetsnbextension~=3.6.0->ipywidgets<9,>=7.6.0->ipympl) (2.19.1)\n",
      "Requirement already satisfied: charset-normalizer<4,>=2 in /Applications/My_Laborarory/Experiment/myenv/lib/python3.12/site-packages (from requests>=2.31->jupyterlab-server<3,>=2.27.1->notebook>=4.4.1->widgetsnbextension~=3.6.0->ipywidgets<9,>=7.6.0->ipympl) (3.3.2)\n",
      "Requirement already satisfied: urllib3<3,>=1.21.1 in /Applications/My_Laborarory/Experiment/myenv/lib/python3.12/site-packages (from requests>=2.31->jupyterlab-server<3,>=2.27.1->notebook>=4.4.1->widgetsnbextension~=3.6.0->ipywidgets<9,>=7.6.0->ipympl) (2.2.1)\n",
      "Requirement already satisfied: webencodings in /Applications/My_Laborarory/Experiment/myenv/lib/python3.12/site-packages (from bleach!=5.0.0->nbconvert>=6.4.4->jupyter-server<3,>=2.4.0->notebook>=4.4.1->widgetsnbextension~=3.6.0->ipywidgets<9,>=7.6.0->ipympl) (0.5.1)\n",
      "Requirement already satisfied: fqdn in /Applications/My_Laborarory/Experiment/myenv/lib/python3.12/site-packages (from jsonschema[format-nongpl]>=4.18.0->jupyter-events>=0.9.0->jupyter-server<3,>=2.4.0->notebook>=4.4.1->widgetsnbextension~=3.6.0->ipywidgets<9,>=7.6.0->ipympl) (1.5.1)\n",
      "Requirement already satisfied: isoduration in /Applications/My_Laborarory/Experiment/myenv/lib/python3.12/site-packages (from jsonschema[format-nongpl]>=4.18.0->jupyter-events>=0.9.0->jupyter-server<3,>=2.4.0->notebook>=4.4.1->widgetsnbextension~=3.6.0->ipywidgets<9,>=7.6.0->ipympl) (20.11.0)\n",
      "Requirement already satisfied: jsonpointer>1.13 in /Applications/My_Laborarory/Experiment/myenv/lib/python3.12/site-packages (from jsonschema[format-nongpl]>=4.18.0->jupyter-events>=0.9.0->jupyter-server<3,>=2.4.0->notebook>=4.4.1->widgetsnbextension~=3.6.0->ipywidgets<9,>=7.6.0->ipympl) (2.4)\n",
      "Requirement already satisfied: uri-template in /Applications/My_Laborarory/Experiment/myenv/lib/python3.12/site-packages (from jsonschema[format-nongpl]>=4.18.0->jupyter-events>=0.9.0->jupyter-server<3,>=2.4.0->notebook>=4.4.1->widgetsnbextension~=3.6.0->ipywidgets<9,>=7.6.0->ipympl) (1.3.0)\n",
      "Requirement already satisfied: webcolors>=1.11 in /Applications/My_Laborarory/Experiment/myenv/lib/python3.12/site-packages (from jsonschema[format-nongpl]>=4.18.0->jupyter-events>=0.9.0->jupyter-server<3,>=2.4.0->notebook>=4.4.1->widgetsnbextension~=3.6.0->ipywidgets<9,>=7.6.0->ipympl) (1.13)\n",
      "Requirement already satisfied: cffi>=1.0.1 in /Applications/My_Laborarory/Experiment/myenv/lib/python3.12/site-packages (from argon2-cffi-bindings->argon2-cffi>=21.1->jupyter-server<3,>=2.4.0->notebook>=4.4.1->widgetsnbextension~=3.6.0->ipywidgets<9,>=7.6.0->ipympl) (1.16.0)\n",
      "Requirement already satisfied: soupsieve>1.2 in /Applications/My_Laborarory/Experiment/myenv/lib/python3.12/site-packages (from beautifulsoup4->nbconvert>=6.4.4->jupyter-server<3,>=2.4.0->notebook>=4.4.1->widgetsnbextension~=3.6.0->ipywidgets<9,>=7.6.0->ipympl) (2.5)\n",
      "Requirement already satisfied: pycparser in /Applications/My_Laborarory/Experiment/myenv/lib/python3.12/site-packages (from cffi>=1.0.1->argon2-cffi-bindings->argon2-cffi>=21.1->jupyter-server<3,>=2.4.0->notebook>=4.4.1->widgetsnbextension~=3.6.0->ipywidgets<9,>=7.6.0->ipympl) (2.22)\n",
      "Requirement already satisfied: arrow>=0.15.0 in /Applications/My_Laborarory/Experiment/myenv/lib/python3.12/site-packages (from isoduration->jsonschema[format-nongpl]>=4.18.0->jupyter-events>=0.9.0->jupyter-server<3,>=2.4.0->notebook>=4.4.1->widgetsnbextension~=3.6.0->ipywidgets<9,>=7.6.0->ipympl) (1.3.0)\n",
      "Requirement already satisfied: types-python-dateutil>=2.8.10 in /Applications/My_Laborarory/Experiment/myenv/lib/python3.12/site-packages (from arrow>=0.15.0->isoduration->jsonschema[format-nongpl]>=4.18.0->jupyter-events>=0.9.0->jupyter-server<3,>=2.4.0->notebook>=4.4.1->widgetsnbextension~=3.6.0->ipywidgets<9,>=7.6.0->ipympl) (2.9.0.20240316)\n",
      "Note: you may need to restart the kernel to use updated packages.\n"
     ]
    }
   ],
   "source": [
    "pip install ipympl"
   ]
  },
  {
   "cell_type": "code",
   "execution_count": 78,
   "metadata": {},
   "outputs": [
    {
     "name": "stdout",
     "output_type": "stream",
     "text": [
      "Requirement already satisfied: ipywidgets==7.7.2 in /Applications/My_Laborarory/Experiment/myenv/lib/python3.12/site-packages (7.7.2)\n",
      "Requirement already satisfied: ipykernel>=4.5.1 in /Applications/My_Laborarory/Experiment/myenv/lib/python3.12/site-packages (from ipywidgets==7.7.2) (6.29.4)\n",
      "Requirement already satisfied: ipython-genutils~=0.2.0 in /Applications/My_Laborarory/Experiment/myenv/lib/python3.12/site-packages (from ipywidgets==7.7.2) (0.2.0)\n",
      "Requirement already satisfied: traitlets>=4.3.1 in /Applications/My_Laborarory/Experiment/myenv/lib/python3.12/site-packages (from ipywidgets==7.7.2) (5.14.3)\n",
      "Requirement already satisfied: widgetsnbextension~=3.6.0 in /Applications/My_Laborarory/Experiment/myenv/lib/python3.12/site-packages (from ipywidgets==7.7.2) (3.6.6)\n",
      "Requirement already satisfied: ipython>=4.0.0 in /Applications/My_Laborarory/Experiment/myenv/lib/python3.12/site-packages (from ipywidgets==7.7.2) (8.24.0)\n",
      "Requirement already satisfied: jupyterlab-widgets<3,>=1.0.0 in /Applications/My_Laborarory/Experiment/myenv/lib/python3.12/site-packages (from ipywidgets==7.7.2) (1.1.7)\n",
      "Requirement already satisfied: appnope in /Applications/My_Laborarory/Experiment/myenv/lib/python3.12/site-packages (from ipykernel>=4.5.1->ipywidgets==7.7.2) (0.1.4)\n",
      "Requirement already satisfied: comm>=0.1.1 in /Applications/My_Laborarory/Experiment/myenv/lib/python3.12/site-packages (from ipykernel>=4.5.1->ipywidgets==7.7.2) (0.2.2)\n",
      "Requirement already satisfied: debugpy>=1.6.5 in /Applications/My_Laborarory/Experiment/myenv/lib/python3.12/site-packages (from ipykernel>=4.5.1->ipywidgets==7.7.2) (1.8.1)\n",
      "Requirement already satisfied: jupyter-client>=6.1.12 in /Applications/My_Laborarory/Experiment/myenv/lib/python3.12/site-packages (from ipykernel>=4.5.1->ipywidgets==7.7.2) (8.6.1)\n",
      "Requirement already satisfied: jupyter-core!=5.0.*,>=4.12 in /Applications/My_Laborarory/Experiment/myenv/lib/python3.12/site-packages (from ipykernel>=4.5.1->ipywidgets==7.7.2) (5.7.2)\n",
      "Requirement already satisfied: matplotlib-inline>=0.1 in /Applications/My_Laborarory/Experiment/myenv/lib/python3.12/site-packages (from ipykernel>=4.5.1->ipywidgets==7.7.2) (0.1.7)\n",
      "Requirement already satisfied: nest-asyncio in /Applications/My_Laborarory/Experiment/myenv/lib/python3.12/site-packages (from ipykernel>=4.5.1->ipywidgets==7.7.2) (1.6.0)\n",
      "Requirement already satisfied: packaging in /Applications/My_Laborarory/Experiment/myenv/lib/python3.12/site-packages (from ipykernel>=4.5.1->ipywidgets==7.7.2) (24.0)\n",
      "Requirement already satisfied: psutil in /Applications/My_Laborarory/Experiment/myenv/lib/python3.12/site-packages (from ipykernel>=4.5.1->ipywidgets==7.7.2) (5.9.8)\n",
      "Requirement already satisfied: pyzmq>=24 in /Applications/My_Laborarory/Experiment/myenv/lib/python3.12/site-packages (from ipykernel>=4.5.1->ipywidgets==7.7.2) (26.0.3)\n",
      "Requirement already satisfied: tornado>=6.1 in /Applications/My_Laborarory/Experiment/myenv/lib/python3.12/site-packages (from ipykernel>=4.5.1->ipywidgets==7.7.2) (6.4)\n",
      "Requirement already satisfied: decorator in /Applications/My_Laborarory/Experiment/myenv/lib/python3.12/site-packages (from ipython>=4.0.0->ipywidgets==7.7.2) (5.1.1)\n",
      "Requirement already satisfied: jedi>=0.16 in /Applications/My_Laborarory/Experiment/myenv/lib/python3.12/site-packages (from ipython>=4.0.0->ipywidgets==7.7.2) (0.19.1)\n",
      "Requirement already satisfied: prompt-toolkit<3.1.0,>=3.0.41 in /Applications/My_Laborarory/Experiment/myenv/lib/python3.12/site-packages (from ipython>=4.0.0->ipywidgets==7.7.2) (3.0.43)\n",
      "Requirement already satisfied: pygments>=2.4.0 in /Applications/My_Laborarory/Experiment/myenv/lib/python3.12/site-packages (from ipython>=4.0.0->ipywidgets==7.7.2) (2.18.0)\n",
      "Requirement already satisfied: stack-data in /Applications/My_Laborarory/Experiment/myenv/lib/python3.12/site-packages (from ipython>=4.0.0->ipywidgets==7.7.2) (0.6.3)\n",
      "Requirement already satisfied: pexpect>4.3 in /Applications/My_Laborarory/Experiment/myenv/lib/python3.12/site-packages (from ipython>=4.0.0->ipywidgets==7.7.2) (4.9.0)\n",
      "Requirement already satisfied: notebook>=4.4.1 in /Applications/My_Laborarory/Experiment/myenv/lib/python3.12/site-packages (from widgetsnbextension~=3.6.0->ipywidgets==7.7.2) (7.2.0)\n",
      "Requirement already satisfied: parso<0.9.0,>=0.8.3 in /Applications/My_Laborarory/Experiment/myenv/lib/python3.12/site-packages (from jedi>=0.16->ipython>=4.0.0->ipywidgets==7.7.2) (0.8.4)\n",
      "Requirement already satisfied: python-dateutil>=2.8.2 in /Applications/My_Laborarory/Experiment/myenv/lib/python3.12/site-packages (from jupyter-client>=6.1.12->ipykernel>=4.5.1->ipywidgets==7.7.2) (2.9.0.post0)\n",
      "Requirement already satisfied: platformdirs>=2.5 in /Applications/My_Laborarory/Experiment/myenv/lib/python3.12/site-packages (from jupyter-core!=5.0.*,>=4.12->ipykernel>=4.5.1->ipywidgets==7.7.2) (4.2.2)\n",
      "Requirement already satisfied: jupyter-server<3,>=2.4.0 in /Applications/My_Laborarory/Experiment/myenv/lib/python3.12/site-packages (from notebook>=4.4.1->widgetsnbextension~=3.6.0->ipywidgets==7.7.2) (2.14.0)\n",
      "Requirement already satisfied: jupyterlab-server<3,>=2.27.1 in /Applications/My_Laborarory/Experiment/myenv/lib/python3.12/site-packages (from notebook>=4.4.1->widgetsnbextension~=3.6.0->ipywidgets==7.7.2) (2.27.1)\n",
      "Requirement already satisfied: jupyterlab<4.3,>=4.2.0 in /Applications/My_Laborarory/Experiment/myenv/lib/python3.12/site-packages (from notebook>=4.4.1->widgetsnbextension~=3.6.0->ipywidgets==7.7.2) (4.2.0)\n",
      "Requirement already satisfied: notebook-shim<0.3,>=0.2 in /Applications/My_Laborarory/Experiment/myenv/lib/python3.12/site-packages (from notebook>=4.4.1->widgetsnbextension~=3.6.0->ipywidgets==7.7.2) (0.2.4)\n",
      "Requirement already satisfied: ptyprocess>=0.5 in /Applications/My_Laborarory/Experiment/myenv/lib/python3.12/site-packages (from pexpect>4.3->ipython>=4.0.0->ipywidgets==7.7.2) (0.7.0)\n",
      "Requirement already satisfied: wcwidth in /Applications/My_Laborarory/Experiment/myenv/lib/python3.12/site-packages (from prompt-toolkit<3.1.0,>=3.0.41->ipython>=4.0.0->ipywidgets==7.7.2) (0.2.13)\n",
      "Requirement already satisfied: executing>=1.2.0 in /Applications/My_Laborarory/Experiment/myenv/lib/python3.12/site-packages (from stack-data->ipython>=4.0.0->ipywidgets==7.7.2) (2.0.1)\n",
      "Requirement already satisfied: asttokens>=2.1.0 in /Applications/My_Laborarory/Experiment/myenv/lib/python3.12/site-packages (from stack-data->ipython>=4.0.0->ipywidgets==7.7.2) (2.4.1)\n",
      "Requirement already satisfied: pure-eval in /Applications/My_Laborarory/Experiment/myenv/lib/python3.12/site-packages (from stack-data->ipython>=4.0.0->ipywidgets==7.7.2) (0.2.2)\n",
      "Requirement already satisfied: six>=1.12.0 in /Applications/My_Laborarory/Experiment/myenv/lib/python3.12/site-packages (from asttokens>=2.1.0->stack-data->ipython>=4.0.0->ipywidgets==7.7.2) (1.16.0)\n",
      "Requirement already satisfied: anyio>=3.1.0 in /Applications/My_Laborarory/Experiment/myenv/lib/python3.12/site-packages (from jupyter-server<3,>=2.4.0->notebook>=4.4.1->widgetsnbextension~=3.6.0->ipywidgets==7.7.2) (4.3.0)\n",
      "Requirement already satisfied: argon2-cffi>=21.1 in /Applications/My_Laborarory/Experiment/myenv/lib/python3.12/site-packages (from jupyter-server<3,>=2.4.0->notebook>=4.4.1->widgetsnbextension~=3.6.0->ipywidgets==7.7.2) (23.1.0)\n",
      "Requirement already satisfied: jinja2>=3.0.3 in /Applications/My_Laborarory/Experiment/myenv/lib/python3.12/site-packages (from jupyter-server<3,>=2.4.0->notebook>=4.4.1->widgetsnbextension~=3.6.0->ipywidgets==7.7.2) (3.1.4)\n",
      "Requirement already satisfied: jupyter-events>=0.9.0 in /Applications/My_Laborarory/Experiment/myenv/lib/python3.12/site-packages (from jupyter-server<3,>=2.4.0->notebook>=4.4.1->widgetsnbextension~=3.6.0->ipywidgets==7.7.2) (0.10.0)\n",
      "Requirement already satisfied: jupyter-server-terminals>=0.4.4 in /Applications/My_Laborarory/Experiment/myenv/lib/python3.12/site-packages (from jupyter-server<3,>=2.4.0->notebook>=4.4.1->widgetsnbextension~=3.6.0->ipywidgets==7.7.2) (0.5.3)\n",
      "Requirement already satisfied: nbconvert>=6.4.4 in /Applications/My_Laborarory/Experiment/myenv/lib/python3.12/site-packages (from jupyter-server<3,>=2.4.0->notebook>=4.4.1->widgetsnbextension~=3.6.0->ipywidgets==7.7.2) (7.16.4)\n",
      "Requirement already satisfied: nbformat>=5.3.0 in /Applications/My_Laborarory/Experiment/myenv/lib/python3.12/site-packages (from jupyter-server<3,>=2.4.0->notebook>=4.4.1->widgetsnbextension~=3.6.0->ipywidgets==7.7.2) (5.10.4)\n",
      "Requirement already satisfied: overrides>=5.0 in /Applications/My_Laborarory/Experiment/myenv/lib/python3.12/site-packages (from jupyter-server<3,>=2.4.0->notebook>=4.4.1->widgetsnbextension~=3.6.0->ipywidgets==7.7.2) (7.7.0)\n",
      "Requirement already satisfied: prometheus-client>=0.9 in /Applications/My_Laborarory/Experiment/myenv/lib/python3.12/site-packages (from jupyter-server<3,>=2.4.0->notebook>=4.4.1->widgetsnbextension~=3.6.0->ipywidgets==7.7.2) (0.20.0)\n",
      "Requirement already satisfied: send2trash>=1.8.2 in /Applications/My_Laborarory/Experiment/myenv/lib/python3.12/site-packages (from jupyter-server<3,>=2.4.0->notebook>=4.4.1->widgetsnbextension~=3.6.0->ipywidgets==7.7.2) (1.8.3)\n",
      "Requirement already satisfied: terminado>=0.8.3 in /Applications/My_Laborarory/Experiment/myenv/lib/python3.12/site-packages (from jupyter-server<3,>=2.4.0->notebook>=4.4.1->widgetsnbextension~=3.6.0->ipywidgets==7.7.2) (0.18.1)\n",
      "Requirement already satisfied: websocket-client>=1.7 in /Applications/My_Laborarory/Experiment/myenv/lib/python3.12/site-packages (from jupyter-server<3,>=2.4.0->notebook>=4.4.1->widgetsnbextension~=3.6.0->ipywidgets==7.7.2) (1.8.0)\n",
      "Requirement already satisfied: async-lru>=1.0.0 in /Applications/My_Laborarory/Experiment/myenv/lib/python3.12/site-packages (from jupyterlab<4.3,>=4.2.0->notebook>=4.4.1->widgetsnbextension~=3.6.0->ipywidgets==7.7.2) (2.0.4)\n",
      "Requirement already satisfied: httpx>=0.25.0 in /Applications/My_Laborarory/Experiment/myenv/lib/python3.12/site-packages (from jupyterlab<4.3,>=4.2.0->notebook>=4.4.1->widgetsnbextension~=3.6.0->ipywidgets==7.7.2) (0.27.0)\n",
      "Requirement already satisfied: jupyter-lsp>=2.0.0 in /Applications/My_Laborarory/Experiment/myenv/lib/python3.12/site-packages (from jupyterlab<4.3,>=4.2.0->notebook>=4.4.1->widgetsnbextension~=3.6.0->ipywidgets==7.7.2) (2.2.5)\n",
      "Requirement already satisfied: babel>=2.10 in /Applications/My_Laborarory/Experiment/myenv/lib/python3.12/site-packages (from jupyterlab-server<3,>=2.27.1->notebook>=4.4.1->widgetsnbextension~=3.6.0->ipywidgets==7.7.2) (2.15.0)\n",
      "Requirement already satisfied: json5>=0.9.0 in /Applications/My_Laborarory/Experiment/myenv/lib/python3.12/site-packages (from jupyterlab-server<3,>=2.27.1->notebook>=4.4.1->widgetsnbextension~=3.6.0->ipywidgets==7.7.2) (0.9.25)\n",
      "Requirement already satisfied: jsonschema>=4.18.0 in /Applications/My_Laborarory/Experiment/myenv/lib/python3.12/site-packages (from jupyterlab-server<3,>=2.27.1->notebook>=4.4.1->widgetsnbextension~=3.6.0->ipywidgets==7.7.2) (4.22.0)\n",
      "Requirement already satisfied: requests>=2.31 in /Applications/My_Laborarory/Experiment/myenv/lib/python3.12/site-packages (from jupyterlab-server<3,>=2.27.1->notebook>=4.4.1->widgetsnbextension~=3.6.0->ipywidgets==7.7.2) (2.31.0)\n",
      "Requirement already satisfied: idna>=2.8 in /Applications/My_Laborarory/Experiment/myenv/lib/python3.12/site-packages (from anyio>=3.1.0->jupyter-server<3,>=2.4.0->notebook>=4.4.1->widgetsnbextension~=3.6.0->ipywidgets==7.7.2) (3.7)\n",
      "Requirement already satisfied: sniffio>=1.1 in /Applications/My_Laborarory/Experiment/myenv/lib/python3.12/site-packages (from anyio>=3.1.0->jupyter-server<3,>=2.4.0->notebook>=4.4.1->widgetsnbextension~=3.6.0->ipywidgets==7.7.2) (1.3.1)\n",
      "Requirement already satisfied: argon2-cffi-bindings in /Applications/My_Laborarory/Experiment/myenv/lib/python3.12/site-packages (from argon2-cffi>=21.1->jupyter-server<3,>=2.4.0->notebook>=4.4.1->widgetsnbextension~=3.6.0->ipywidgets==7.7.2) (21.2.0)\n",
      "Requirement already satisfied: certifi in /Applications/My_Laborarory/Experiment/myenv/lib/python3.12/site-packages (from httpx>=0.25.0->jupyterlab<4.3,>=4.2.0->notebook>=4.4.1->widgetsnbextension~=3.6.0->ipywidgets==7.7.2) (2024.2.2)\n",
      "Requirement already satisfied: httpcore==1.* in /Applications/My_Laborarory/Experiment/myenv/lib/python3.12/site-packages (from httpx>=0.25.0->jupyterlab<4.3,>=4.2.0->notebook>=4.4.1->widgetsnbextension~=3.6.0->ipywidgets==7.7.2) (1.0.5)\n",
      "Requirement already satisfied: h11<0.15,>=0.13 in /Applications/My_Laborarory/Experiment/myenv/lib/python3.12/site-packages (from httpcore==1.*->httpx>=0.25.0->jupyterlab<4.3,>=4.2.0->notebook>=4.4.1->widgetsnbextension~=3.6.0->ipywidgets==7.7.2) (0.14.0)\n",
      "Requirement already satisfied: MarkupSafe>=2.0 in /Applications/My_Laborarory/Experiment/myenv/lib/python3.12/site-packages (from jinja2>=3.0.3->jupyter-server<3,>=2.4.0->notebook>=4.4.1->widgetsnbextension~=3.6.0->ipywidgets==7.7.2) (2.1.5)\n",
      "Requirement already satisfied: attrs>=22.2.0 in /Applications/My_Laborarory/Experiment/myenv/lib/python3.12/site-packages (from jsonschema>=4.18.0->jupyterlab-server<3,>=2.27.1->notebook>=4.4.1->widgetsnbextension~=3.6.0->ipywidgets==7.7.2) (23.2.0)\n",
      "Requirement already satisfied: jsonschema-specifications>=2023.03.6 in /Applications/My_Laborarory/Experiment/myenv/lib/python3.12/site-packages (from jsonschema>=4.18.0->jupyterlab-server<3,>=2.27.1->notebook>=4.4.1->widgetsnbextension~=3.6.0->ipywidgets==7.7.2) (2023.12.1)\n",
      "Requirement already satisfied: referencing>=0.28.4 in /Applications/My_Laborarory/Experiment/myenv/lib/python3.12/site-packages (from jsonschema>=4.18.0->jupyterlab-server<3,>=2.27.1->notebook>=4.4.1->widgetsnbextension~=3.6.0->ipywidgets==7.7.2) (0.35.1)\n",
      "Requirement already satisfied: rpds-py>=0.7.1 in /Applications/My_Laborarory/Experiment/myenv/lib/python3.12/site-packages (from jsonschema>=4.18.0->jupyterlab-server<3,>=2.27.1->notebook>=4.4.1->widgetsnbextension~=3.6.0->ipywidgets==7.7.2) (0.18.1)\n",
      "Requirement already satisfied: python-json-logger>=2.0.4 in /Applications/My_Laborarory/Experiment/myenv/lib/python3.12/site-packages (from jupyter-events>=0.9.0->jupyter-server<3,>=2.4.0->notebook>=4.4.1->widgetsnbextension~=3.6.0->ipywidgets==7.7.2) (2.0.7)\n",
      "Requirement already satisfied: pyyaml>=5.3 in /Applications/My_Laborarory/Experiment/myenv/lib/python3.12/site-packages (from jupyter-events>=0.9.0->jupyter-server<3,>=2.4.0->notebook>=4.4.1->widgetsnbextension~=3.6.0->ipywidgets==7.7.2) (6.0.1)\n",
      "Requirement already satisfied: rfc3339-validator in /Applications/My_Laborarory/Experiment/myenv/lib/python3.12/site-packages (from jupyter-events>=0.9.0->jupyter-server<3,>=2.4.0->notebook>=4.4.1->widgetsnbextension~=3.6.0->ipywidgets==7.7.2) (0.1.4)\n",
      "Requirement already satisfied: rfc3986-validator>=0.1.1 in /Applications/My_Laborarory/Experiment/myenv/lib/python3.12/site-packages (from jupyter-events>=0.9.0->jupyter-server<3,>=2.4.0->notebook>=4.4.1->widgetsnbextension~=3.6.0->ipywidgets==7.7.2) (0.1.1)\n",
      "Requirement already satisfied: beautifulsoup4 in /Applications/My_Laborarory/Experiment/myenv/lib/python3.12/site-packages (from nbconvert>=6.4.4->jupyter-server<3,>=2.4.0->notebook>=4.4.1->widgetsnbextension~=3.6.0->ipywidgets==7.7.2) (4.12.3)\n",
      "Requirement already satisfied: bleach!=5.0.0 in /Applications/My_Laborarory/Experiment/myenv/lib/python3.12/site-packages (from nbconvert>=6.4.4->jupyter-server<3,>=2.4.0->notebook>=4.4.1->widgetsnbextension~=3.6.0->ipywidgets==7.7.2) (6.1.0)\n",
      "Requirement already satisfied: defusedxml in /Applications/My_Laborarory/Experiment/myenv/lib/python3.12/site-packages (from nbconvert>=6.4.4->jupyter-server<3,>=2.4.0->notebook>=4.4.1->widgetsnbextension~=3.6.0->ipywidgets==7.7.2) (0.7.1)\n",
      "Requirement already satisfied: jupyterlab-pygments in /Applications/My_Laborarory/Experiment/myenv/lib/python3.12/site-packages (from nbconvert>=6.4.4->jupyter-server<3,>=2.4.0->notebook>=4.4.1->widgetsnbextension~=3.6.0->ipywidgets==7.7.2) (0.3.0)\n",
      "Requirement already satisfied: mistune<4,>=2.0.3 in /Applications/My_Laborarory/Experiment/myenv/lib/python3.12/site-packages (from nbconvert>=6.4.4->jupyter-server<3,>=2.4.0->notebook>=4.4.1->widgetsnbextension~=3.6.0->ipywidgets==7.7.2) (3.0.2)\n",
      "Requirement already satisfied: nbclient>=0.5.0 in /Applications/My_Laborarory/Experiment/myenv/lib/python3.12/site-packages (from nbconvert>=6.4.4->jupyter-server<3,>=2.4.0->notebook>=4.4.1->widgetsnbextension~=3.6.0->ipywidgets==7.7.2) (0.10.0)\n",
      "Requirement already satisfied: pandocfilters>=1.4.1 in /Applications/My_Laborarory/Experiment/myenv/lib/python3.12/site-packages (from nbconvert>=6.4.4->jupyter-server<3,>=2.4.0->notebook>=4.4.1->widgetsnbextension~=3.6.0->ipywidgets==7.7.2) (1.5.1)\n",
      "Requirement already satisfied: tinycss2 in /Applications/My_Laborarory/Experiment/myenv/lib/python3.12/site-packages (from nbconvert>=6.4.4->jupyter-server<3,>=2.4.0->notebook>=4.4.1->widgetsnbextension~=3.6.0->ipywidgets==7.7.2) (1.3.0)\n",
      "Requirement already satisfied: fastjsonschema>=2.15 in /Applications/My_Laborarory/Experiment/myenv/lib/python3.12/site-packages (from nbformat>=5.3.0->jupyter-server<3,>=2.4.0->notebook>=4.4.1->widgetsnbextension~=3.6.0->ipywidgets==7.7.2) (2.19.1)\n",
      "Requirement already satisfied: charset-normalizer<4,>=2 in /Applications/My_Laborarory/Experiment/myenv/lib/python3.12/site-packages (from requests>=2.31->jupyterlab-server<3,>=2.27.1->notebook>=4.4.1->widgetsnbextension~=3.6.0->ipywidgets==7.7.2) (3.3.2)\n",
      "Requirement already satisfied: urllib3<3,>=1.21.1 in /Applications/My_Laborarory/Experiment/myenv/lib/python3.12/site-packages (from requests>=2.31->jupyterlab-server<3,>=2.27.1->notebook>=4.4.1->widgetsnbextension~=3.6.0->ipywidgets==7.7.2) (2.2.1)\n",
      "Requirement already satisfied: webencodings in /Applications/My_Laborarory/Experiment/myenv/lib/python3.12/site-packages (from bleach!=5.0.0->nbconvert>=6.4.4->jupyter-server<3,>=2.4.0->notebook>=4.4.1->widgetsnbextension~=3.6.0->ipywidgets==7.7.2) (0.5.1)\n",
      "Requirement already satisfied: fqdn in /Applications/My_Laborarory/Experiment/myenv/lib/python3.12/site-packages (from jsonschema[format-nongpl]>=4.18.0->jupyter-events>=0.9.0->jupyter-server<3,>=2.4.0->notebook>=4.4.1->widgetsnbextension~=3.6.0->ipywidgets==7.7.2) (1.5.1)\n",
      "Requirement already satisfied: isoduration in /Applications/My_Laborarory/Experiment/myenv/lib/python3.12/site-packages (from jsonschema[format-nongpl]>=4.18.0->jupyter-events>=0.9.0->jupyter-server<3,>=2.4.0->notebook>=4.4.1->widgetsnbextension~=3.6.0->ipywidgets==7.7.2) (20.11.0)\n",
      "Requirement already satisfied: jsonpointer>1.13 in /Applications/My_Laborarory/Experiment/myenv/lib/python3.12/site-packages (from jsonschema[format-nongpl]>=4.18.0->jupyter-events>=0.9.0->jupyter-server<3,>=2.4.0->notebook>=4.4.1->widgetsnbextension~=3.6.0->ipywidgets==7.7.2) (2.4)\n",
      "Requirement already satisfied: uri-template in /Applications/My_Laborarory/Experiment/myenv/lib/python3.12/site-packages (from jsonschema[format-nongpl]>=4.18.0->jupyter-events>=0.9.0->jupyter-server<3,>=2.4.0->notebook>=4.4.1->widgetsnbextension~=3.6.0->ipywidgets==7.7.2) (1.3.0)\n",
      "Requirement already satisfied: webcolors>=1.11 in /Applications/My_Laborarory/Experiment/myenv/lib/python3.12/site-packages (from jsonschema[format-nongpl]>=4.18.0->jupyter-events>=0.9.0->jupyter-server<3,>=2.4.0->notebook>=4.4.1->widgetsnbextension~=3.6.0->ipywidgets==7.7.2) (1.13)\n",
      "Requirement already satisfied: cffi>=1.0.1 in /Applications/My_Laborarory/Experiment/myenv/lib/python3.12/site-packages (from argon2-cffi-bindings->argon2-cffi>=21.1->jupyter-server<3,>=2.4.0->notebook>=4.4.1->widgetsnbextension~=3.6.0->ipywidgets==7.7.2) (1.16.0)\n",
      "Requirement already satisfied: soupsieve>1.2 in /Applications/My_Laborarory/Experiment/myenv/lib/python3.12/site-packages (from beautifulsoup4->nbconvert>=6.4.4->jupyter-server<3,>=2.4.0->notebook>=4.4.1->widgetsnbextension~=3.6.0->ipywidgets==7.7.2) (2.5)\n",
      "Requirement already satisfied: pycparser in /Applications/My_Laborarory/Experiment/myenv/lib/python3.12/site-packages (from cffi>=1.0.1->argon2-cffi-bindings->argon2-cffi>=21.1->jupyter-server<3,>=2.4.0->notebook>=4.4.1->widgetsnbextension~=3.6.0->ipywidgets==7.7.2) (2.22)\n",
      "Requirement already satisfied: arrow>=0.15.0 in /Applications/My_Laborarory/Experiment/myenv/lib/python3.12/site-packages (from isoduration->jsonschema[format-nongpl]>=4.18.0->jupyter-events>=0.9.0->jupyter-server<3,>=2.4.0->notebook>=4.4.1->widgetsnbextension~=3.6.0->ipywidgets==7.7.2) (1.3.0)\n",
      "Requirement already satisfied: types-python-dateutil>=2.8.10 in /Applications/My_Laborarory/Experiment/myenv/lib/python3.12/site-packages (from arrow>=0.15.0->isoduration->jsonschema[format-nongpl]>=4.18.0->jupyter-events>=0.9.0->jupyter-server<3,>=2.4.0->notebook>=4.4.1->widgetsnbextension~=3.6.0->ipywidgets==7.7.2) (2.9.0.20240316)\n",
      "Note: you may need to restart the kernel to use updated packages.\n"
     ]
    }
   ],
   "source": [
    "pip install ipywidgets==7.7.2"
   ]
  },
  {
   "cell_type": "code",
   "execution_count": 79,
   "metadata": {},
   "outputs": [
    {
     "name": "stdout",
     "output_type": "stream",
     "text": [
      "/Applications/My_Laborarory/Experiment/myenv/bin/python\n"
     ]
    }
   ],
   "source": [
    "import sys\n",
    "print(sys.executable)"
   ]
  }
 ],
 "metadata": {
  "kernelspec": {
   "display_name": "myenv",
   "language": "python",
   "name": "python3"
  },
  "language_info": {
   "codemirror_mode": {
    "name": "ipython",
    "version": 3
   },
   "file_extension": ".py",
   "mimetype": "text/x-python",
   "name": "python",
   "nbconvert_exporter": "python",
   "pygments_lexer": "ipython3",
   "version": "3.12.3"
  }
 },
 "nbformat": 4,
 "nbformat_minor": 2
}
