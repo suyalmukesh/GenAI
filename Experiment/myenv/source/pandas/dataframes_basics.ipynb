{
 "cells": [
  {
   "cell_type": "markdown",
   "metadata": {},
   "source": [
    "# DataFrame :\n",
    "``` A DataFrame is a table of columns and rows in pandas that we can easily restructure and filter ```\n",
    "\n",
    "## Formal Defination :\n",
    "    A group of Pandas Series objects that share the same index "
   ]
  },
  {
   "cell_type": "code",
   "execution_count": 76,
   "metadata": {},
   "outputs": [],
   "source": [
    "import numpy as np \n",
    "import pandas as pd"
   ]
  },
  {
   "cell_type": "code",
   "execution_count": 77,
   "metadata": {},
   "outputs": [
    {
     "name": "stdout",
     "output_type": "stream",
     "text": [
      "[[95 11 81]\n",
      " [70 63 87]\n",
      " [75  9 77]\n",
      " [40  4 63]]\n"
     ]
    }
   ],
   "source": [
    "np.random.seed(101)\n",
    "mydata = np.random.randint(0,101,(4,3))\n",
    "print(mydata)"
   ]
  },
  {
   "cell_type": "code",
   "execution_count": 78,
   "metadata": {},
   "outputs": [],
   "source": [
    "myindex = ['CA','NY','AZ','TX']\n"
   ]
  },
  {
   "cell_type": "code",
   "execution_count": 79,
   "metadata": {},
   "outputs": [],
   "source": [
    "mycolumns = ['Jan','Feb','Mar']"
   ]
  },
  {
   "cell_type": "code",
   "execution_count": 80,
   "metadata": {},
   "outputs": [
    {
     "name": "stdout",
     "output_type": "stream",
     "text": [
      "    0   1   2\n",
      "0  95  11  81\n",
      "1  70  63  87\n",
      "2  75   9  77\n",
      "3  40   4  63\n",
      "---------------------\n",
      "     0   1   2\n",
      "CA  95  11  81\n",
      "NY  70  63  87\n",
      "AZ  75   9  77\n",
      "TX  40   4  63\n",
      "---------------------\n",
      "    Jan  Feb  Mar\n",
      "CA   95   11   81\n",
      "NY   70   63   87\n",
      "AZ   75    9   77\n",
      "TX   40    4   63\n",
      "---------------------\n"
     ]
    }
   ],
   "source": [
    "df = pd.DataFrame(data=mydata)\n",
    "print(df)\n",
    "print(\"---------------------\")\n",
    "df = pd.DataFrame(data=mydata,index=myindex)\n",
    "print(df)\n",
    "print(\"---------------------\")\n",
    "df = pd.DataFrame(data=mydata,index=myindex,columns=mycolumns)\n",
    "print(df)\n",
    "print(\"---------------------\")"
   ]
  },
  {
   "cell_type": "code",
   "execution_count": 112,
   "metadata": {},
   "outputs": [
    {
     "data": {
      "text/html": [
       "<div>\n",
       "<style scoped>\n",
       "    .dataframe tbody tr th:only-of-type {\n",
       "        vertical-align: middle;\n",
       "    }\n",
       "\n",
       "    .dataframe tbody tr th {\n",
       "        vertical-align: top;\n",
       "    }\n",
       "\n",
       "    .dataframe thead th {\n",
       "        text-align: right;\n",
       "    }\n",
       "</style>\n",
       "<table border=\"1\" class=\"dataframe\">\n",
       "  <thead>\n",
       "    <tr style=\"text-align: right;\">\n",
       "      <th></th>\n",
       "      <th>total_bill</th>\n",
       "      <th>tip</th>\n",
       "      <th>sex</th>\n",
       "      <th>smoker</th>\n",
       "      <th>day</th>\n",
       "      <th>time</th>\n",
       "      <th>size</th>\n",
       "      <th>price_per_person</th>\n",
       "      <th>Payer Name</th>\n",
       "      <th>CC Number</th>\n",
       "    </tr>\n",
       "    <tr>\n",
       "      <th>Payment ID</th>\n",
       "      <th></th>\n",
       "      <th></th>\n",
       "      <th></th>\n",
       "      <th></th>\n",
       "      <th></th>\n",
       "      <th></th>\n",
       "      <th></th>\n",
       "      <th></th>\n",
       "      <th></th>\n",
       "      <th></th>\n",
       "    </tr>\n",
       "  </thead>\n",
       "  <tbody>\n",
       "    <tr>\n",
       "      <th>Sun4608</th>\n",
       "      <td>10.34</td>\n",
       "      <td>1.66</td>\n",
       "      <td>Male</td>\n",
       "      <td>No</td>\n",
       "      <td>Sun</td>\n",
       "      <td>Dinner</td>\n",
       "      <td>3</td>\n",
       "      <td>3.45</td>\n",
       "      <td>Douglas Tucker</td>\n",
       "      <td>4478071379779230</td>\n",
       "    </tr>\n",
       "    <tr>\n",
       "      <th>Sun4458</th>\n",
       "      <td>21.01</td>\n",
       "      <td>3.50</td>\n",
       "      <td>Male</td>\n",
       "      <td>No</td>\n",
       "      <td>Sun</td>\n",
       "      <td>Dinner</td>\n",
       "      <td>3</td>\n",
       "      <td>7.00</td>\n",
       "      <td>Travis Walters</td>\n",
       "      <td>6011812112971322</td>\n",
       "    </tr>\n",
       "    <tr>\n",
       "      <th>Sun5260</th>\n",
       "      <td>23.68</td>\n",
       "      <td>3.31</td>\n",
       "      <td>Male</td>\n",
       "      <td>No</td>\n",
       "      <td>Sun</td>\n",
       "      <td>Dinner</td>\n",
       "      <td>2</td>\n",
       "      <td>11.84</td>\n",
       "      <td>Nathaniel Harris</td>\n",
       "      <td>4676137647685994</td>\n",
       "    </tr>\n",
       "    <tr>\n",
       "      <th>Sun2251</th>\n",
       "      <td>24.59</td>\n",
       "      <td>3.61</td>\n",
       "      <td>Female</td>\n",
       "      <td>No</td>\n",
       "      <td>Sun</td>\n",
       "      <td>Dinner</td>\n",
       "      <td>4</td>\n",
       "      <td>6.15</td>\n",
       "      <td>Tonya Carter</td>\n",
       "      <td>4832732618637221</td>\n",
       "    </tr>\n",
       "    <tr>\n",
       "      <th>Sun9679</th>\n",
       "      <td>25.29</td>\n",
       "      <td>4.71</td>\n",
       "      <td>Male</td>\n",
       "      <td>No</td>\n",
       "      <td>Sun</td>\n",
       "      <td>Dinner</td>\n",
       "      <td>4</td>\n",
       "      <td>6.32</td>\n",
       "      <td>Erik Smith</td>\n",
       "      <td>213140353657882</td>\n",
       "    </tr>\n",
       "    <tr>\n",
       "      <th>...</th>\n",
       "      <td>...</td>\n",
       "      <td>...</td>\n",
       "      <td>...</td>\n",
       "      <td>...</td>\n",
       "      <td>...</td>\n",
       "      <td>...</td>\n",
       "      <td>...</td>\n",
       "      <td>...</td>\n",
       "      <td>...</td>\n",
       "      <td>...</td>\n",
       "    </tr>\n",
       "    <tr>\n",
       "      <th>Sat1766</th>\n",
       "      <td>27.18</td>\n",
       "      <td>2.00</td>\n",
       "      <td>Female</td>\n",
       "      <td>Yes</td>\n",
       "      <td>Sat</td>\n",
       "      <td>Dinner</td>\n",
       "      <td>2</td>\n",
       "      <td>13.59</td>\n",
       "      <td>Monica Sanders</td>\n",
       "      <td>3506806155565404</td>\n",
       "    </tr>\n",
       "    <tr>\n",
       "      <th>Sat3880</th>\n",
       "      <td>22.67</td>\n",
       "      <td>2.00</td>\n",
       "      <td>Male</td>\n",
       "      <td>Yes</td>\n",
       "      <td>Sat</td>\n",
       "      <td>Dinner</td>\n",
       "      <td>2</td>\n",
       "      <td>11.34</td>\n",
       "      <td>Keith Wong</td>\n",
       "      <td>6011891618747196</td>\n",
       "    </tr>\n",
       "    <tr>\n",
       "      <th>Sat17</th>\n",
       "      <td>17.82</td>\n",
       "      <td>1.75</td>\n",
       "      <td>Male</td>\n",
       "      <td>No</td>\n",
       "      <td>Sat</td>\n",
       "      <td>Dinner</td>\n",
       "      <td>2</td>\n",
       "      <td>8.91</td>\n",
       "      <td>Dennis Dixon</td>\n",
       "      <td>4375220550950</td>\n",
       "    </tr>\n",
       "    <tr>\n",
       "      <th>Thur672</th>\n",
       "      <td>18.78</td>\n",
       "      <td>3.00</td>\n",
       "      <td>Female</td>\n",
       "      <td>No</td>\n",
       "      <td>Thur</td>\n",
       "      <td>Dinner</td>\n",
       "      <td>2</td>\n",
       "      <td>9.39</td>\n",
       "      <td>Michelle Hardin</td>\n",
       "      <td>3511451626698139</td>\n",
       "    </tr>\n",
       "    <tr>\n",
       "      <th>Sun4608</th>\n",
       "      <td>10.34</td>\n",
       "      <td>1.66</td>\n",
       "      <td>Male</td>\n",
       "      <td>No</td>\n",
       "      <td>Sun</td>\n",
       "      <td>Dinner</td>\n",
       "      <td>3</td>\n",
       "      <td>3.45</td>\n",
       "      <td>Douglas Tucker</td>\n",
       "      <td>4478071379779230</td>\n",
       "    </tr>\n",
       "  </tbody>\n",
       "</table>\n",
       "<p>244 rows × 10 columns</p>\n",
       "</div>"
      ],
      "text/plain": [
       "            total_bill   tip     sex smoker   day    time  size  \\\n",
       "Payment ID                                                        \n",
       "Sun4608          10.34  1.66    Male     No   Sun  Dinner     3   \n",
       "Sun4458          21.01  3.50    Male     No   Sun  Dinner     3   \n",
       "Sun5260          23.68  3.31    Male     No   Sun  Dinner     2   \n",
       "Sun2251          24.59  3.61  Female     No   Sun  Dinner     4   \n",
       "Sun9679          25.29  4.71    Male     No   Sun  Dinner     4   \n",
       "...                ...   ...     ...    ...   ...     ...   ...   \n",
       "Sat1766          27.18  2.00  Female    Yes   Sat  Dinner     2   \n",
       "Sat3880          22.67  2.00    Male    Yes   Sat  Dinner     2   \n",
       "Sat17            17.82  1.75    Male     No   Sat  Dinner     2   \n",
       "Thur672          18.78  3.00  Female     No  Thur  Dinner     2   \n",
       "Sun4608          10.34  1.66    Male     No   Sun  Dinner     3   \n",
       "\n",
       "            price_per_person        Payer Name         CC Number  \n",
       "Payment ID                                                        \n",
       "Sun4608                 3.45    Douglas Tucker  4478071379779230  \n",
       "Sun4458                 7.00    Travis Walters  6011812112971322  \n",
       "Sun5260                11.84  Nathaniel Harris  4676137647685994  \n",
       "Sun2251                 6.15      Tonya Carter  4832732618637221  \n",
       "Sun9679                 6.32        Erik Smith   213140353657882  \n",
       "...                      ...               ...               ...  \n",
       "Sat1766                13.59    Monica Sanders  3506806155565404  \n",
       "Sat3880                11.34        Keith Wong  6011891618747196  \n",
       "Sat17                   8.91      Dennis Dixon     4375220550950  \n",
       "Thur672                 9.39   Michelle Hardin  3511451626698139  \n",
       "Sun4608                 3.45    Douglas Tucker  4478071379779230  \n",
       "\n",
       "[244 rows x 10 columns]"
      ]
     },
     "execution_count": 112,
     "metadata": {},
     "output_type": "execute_result"
    }
   ],
   "source": [
    "df"
   ]
  },
  {
   "cell_type": "code",
   "execution_count": 81,
   "metadata": {},
   "outputs": [
    {
     "data": {
      "text/plain": [
       "pandas.core.frame.DataFrame"
      ]
     },
     "execution_count": 81,
     "metadata": {},
     "output_type": "execute_result"
    }
   ],
   "source": [
    "type(df)"
   ]
  },
  {
   "cell_type": "code",
   "execution_count": 82,
   "metadata": {},
   "outputs": [
    {
     "name": "stdout",
     "output_type": "stream",
     "text": [
      "<class 'pandas.core.frame.DataFrame'>\n",
      "Index: 4 entries, CA to TX\n",
      "Data columns (total 3 columns):\n",
      " #   Column  Non-Null Count  Dtype\n",
      "---  ------  --------------  -----\n",
      " 0   Jan     4 non-null      int64\n",
      " 1   Feb     4 non-null      int64\n",
      " 2   Mar     4 non-null      int64\n",
      "dtypes: int64(3)\n",
      "memory usage: 128.0+ bytes\n"
     ]
    }
   ],
   "source": [
    "df.info()"
   ]
  },
  {
   "cell_type": "markdown",
   "metadata": {},
   "source": [
    "# Read from CSV "
   ]
  },
  {
   "cell_type": "markdown",
   "metadata": {},
   "source": [
    "# Where is my Python code located\n",
    "-  pwd"
   ]
  },
  {
   "cell_type": "code",
   "execution_count": 83,
   "metadata": {
    "notebookRunGroups": {
     "groupValue": "1"
    },
    "vscode": {
     "languageId": "shellscript"
    }
   },
   "outputs": [
    {
     "data": {
      "text/plain": [
       "'/Applications/My_Laborarory/Experiment/myenv/source/pandas'"
      ]
     },
     "execution_count": 83,
     "metadata": {},
     "output_type": "execute_result"
    }
   ],
   "source": [
    "pwd\n"
   ]
  },
  {
   "cell_type": "code",
   "execution_count": 84,
   "metadata": {},
   "outputs": [
    {
     "name": "stdout",
     "output_type": "stream",
     "text": [
      "RetailSales_BeerWineLiquor.csv  new_file.csv\n",
      "Sales_Funnel_CRM.csv            new_workbook.xlsx\n",
      "example.csv                     newfile.csv\n",
      "example.xlsx                    reshaping_pivot.png\n",
      "hotel_booking_data.csv          sample_table.html\n",
      "movie_scores.csv                simple.html\n",
      "mpg.csv                         tips.csv\n",
      "my_excel_file.xlsx\n"
     ]
    }
   ],
   "source": [
    "ls data/"
   ]
  },
  {
   "cell_type": "code",
   "execution_count": 113,
   "metadata": {},
   "outputs": [
    {
     "data": {
      "text/html": [
       "<div>\n",
       "<style scoped>\n",
       "    .dataframe tbody tr th:only-of-type {\n",
       "        vertical-align: middle;\n",
       "    }\n",
       "\n",
       "    .dataframe tbody tr th {\n",
       "        vertical-align: top;\n",
       "    }\n",
       "\n",
       "    .dataframe thead th {\n",
       "        text-align: right;\n",
       "    }\n",
       "</style>\n",
       "<table border=\"1\" class=\"dataframe\">\n",
       "  <thead>\n",
       "    <tr style=\"text-align: right;\">\n",
       "      <th></th>\n",
       "      <th>total_bill</th>\n",
       "      <th>tip</th>\n",
       "      <th>sex</th>\n",
       "      <th>smoker</th>\n",
       "      <th>day</th>\n",
       "      <th>time</th>\n",
       "      <th>size</th>\n",
       "      <th>price_per_person</th>\n",
       "      <th>Payer Name</th>\n",
       "      <th>CC Number</th>\n",
       "      <th>Payment ID</th>\n",
       "    </tr>\n",
       "  </thead>\n",
       "  <tbody>\n",
       "    <tr>\n",
       "      <th>0</th>\n",
       "      <td>16.99</td>\n",
       "      <td>1.01</td>\n",
       "      <td>Female</td>\n",
       "      <td>No</td>\n",
       "      <td>Sun</td>\n",
       "      <td>Dinner</td>\n",
       "      <td>2</td>\n",
       "      <td>8.49</td>\n",
       "      <td>Christy Cunningham</td>\n",
       "      <td>3560325168603410</td>\n",
       "      <td>Sun2959</td>\n",
       "    </tr>\n",
       "    <tr>\n",
       "      <th>1</th>\n",
       "      <td>10.34</td>\n",
       "      <td>1.66</td>\n",
       "      <td>Male</td>\n",
       "      <td>No</td>\n",
       "      <td>Sun</td>\n",
       "      <td>Dinner</td>\n",
       "      <td>3</td>\n",
       "      <td>3.45</td>\n",
       "      <td>Douglas Tucker</td>\n",
       "      <td>4478071379779230</td>\n",
       "      <td>Sun4608</td>\n",
       "    </tr>\n",
       "    <tr>\n",
       "      <th>2</th>\n",
       "      <td>21.01</td>\n",
       "      <td>3.50</td>\n",
       "      <td>Male</td>\n",
       "      <td>No</td>\n",
       "      <td>Sun</td>\n",
       "      <td>Dinner</td>\n",
       "      <td>3</td>\n",
       "      <td>7.00</td>\n",
       "      <td>Travis Walters</td>\n",
       "      <td>6011812112971322</td>\n",
       "      <td>Sun4458</td>\n",
       "    </tr>\n",
       "    <tr>\n",
       "      <th>3</th>\n",
       "      <td>23.68</td>\n",
       "      <td>3.31</td>\n",
       "      <td>Male</td>\n",
       "      <td>No</td>\n",
       "      <td>Sun</td>\n",
       "      <td>Dinner</td>\n",
       "      <td>2</td>\n",
       "      <td>11.84</td>\n",
       "      <td>Nathaniel Harris</td>\n",
       "      <td>4676137647685994</td>\n",
       "      <td>Sun5260</td>\n",
       "    </tr>\n",
       "    <tr>\n",
       "      <th>4</th>\n",
       "      <td>24.59</td>\n",
       "      <td>3.61</td>\n",
       "      <td>Female</td>\n",
       "      <td>No</td>\n",
       "      <td>Sun</td>\n",
       "      <td>Dinner</td>\n",
       "      <td>4</td>\n",
       "      <td>6.15</td>\n",
       "      <td>Tonya Carter</td>\n",
       "      <td>4832732618637221</td>\n",
       "      <td>Sun2251</td>\n",
       "    </tr>\n",
       "    <tr>\n",
       "      <th>...</th>\n",
       "      <td>...</td>\n",
       "      <td>...</td>\n",
       "      <td>...</td>\n",
       "      <td>...</td>\n",
       "      <td>...</td>\n",
       "      <td>...</td>\n",
       "      <td>...</td>\n",
       "      <td>...</td>\n",
       "      <td>...</td>\n",
       "      <td>...</td>\n",
       "      <td>...</td>\n",
       "    </tr>\n",
       "    <tr>\n",
       "      <th>239</th>\n",
       "      <td>29.03</td>\n",
       "      <td>5.92</td>\n",
       "      <td>Male</td>\n",
       "      <td>No</td>\n",
       "      <td>Sat</td>\n",
       "      <td>Dinner</td>\n",
       "      <td>3</td>\n",
       "      <td>9.68</td>\n",
       "      <td>Michael Avila</td>\n",
       "      <td>5296068606052842</td>\n",
       "      <td>Sat2657</td>\n",
       "    </tr>\n",
       "    <tr>\n",
       "      <th>240</th>\n",
       "      <td>27.18</td>\n",
       "      <td>2.00</td>\n",
       "      <td>Female</td>\n",
       "      <td>Yes</td>\n",
       "      <td>Sat</td>\n",
       "      <td>Dinner</td>\n",
       "      <td>2</td>\n",
       "      <td>13.59</td>\n",
       "      <td>Monica Sanders</td>\n",
       "      <td>3506806155565404</td>\n",
       "      <td>Sat1766</td>\n",
       "    </tr>\n",
       "    <tr>\n",
       "      <th>241</th>\n",
       "      <td>22.67</td>\n",
       "      <td>2.00</td>\n",
       "      <td>Male</td>\n",
       "      <td>Yes</td>\n",
       "      <td>Sat</td>\n",
       "      <td>Dinner</td>\n",
       "      <td>2</td>\n",
       "      <td>11.34</td>\n",
       "      <td>Keith Wong</td>\n",
       "      <td>6011891618747196</td>\n",
       "      <td>Sat3880</td>\n",
       "    </tr>\n",
       "    <tr>\n",
       "      <th>242</th>\n",
       "      <td>17.82</td>\n",
       "      <td>1.75</td>\n",
       "      <td>Male</td>\n",
       "      <td>No</td>\n",
       "      <td>Sat</td>\n",
       "      <td>Dinner</td>\n",
       "      <td>2</td>\n",
       "      <td>8.91</td>\n",
       "      <td>Dennis Dixon</td>\n",
       "      <td>4375220550950</td>\n",
       "      <td>Sat17</td>\n",
       "    </tr>\n",
       "    <tr>\n",
       "      <th>243</th>\n",
       "      <td>18.78</td>\n",
       "      <td>3.00</td>\n",
       "      <td>Female</td>\n",
       "      <td>No</td>\n",
       "      <td>Thur</td>\n",
       "      <td>Dinner</td>\n",
       "      <td>2</td>\n",
       "      <td>9.39</td>\n",
       "      <td>Michelle Hardin</td>\n",
       "      <td>3511451626698139</td>\n",
       "      <td>Thur672</td>\n",
       "    </tr>\n",
       "  </tbody>\n",
       "</table>\n",
       "<p>244 rows × 11 columns</p>\n",
       "</div>"
      ],
      "text/plain": [
       "     total_bill   tip     sex smoker   day    time  size  price_per_person  \\\n",
       "0         16.99  1.01  Female     No   Sun  Dinner     2              8.49   \n",
       "1         10.34  1.66    Male     No   Sun  Dinner     3              3.45   \n",
       "2         21.01  3.50    Male     No   Sun  Dinner     3              7.00   \n",
       "3         23.68  3.31    Male     No   Sun  Dinner     2             11.84   \n",
       "4         24.59  3.61  Female     No   Sun  Dinner     4              6.15   \n",
       "..          ...   ...     ...    ...   ...     ...   ...               ...   \n",
       "239       29.03  5.92    Male     No   Sat  Dinner     3              9.68   \n",
       "240       27.18  2.00  Female    Yes   Sat  Dinner     2             13.59   \n",
       "241       22.67  2.00    Male    Yes   Sat  Dinner     2             11.34   \n",
       "242       17.82  1.75    Male     No   Sat  Dinner     2              8.91   \n",
       "243       18.78  3.00  Female     No  Thur  Dinner     2              9.39   \n",
       "\n",
       "             Payer Name         CC Number Payment ID  \n",
       "0    Christy Cunningham  3560325168603410    Sun2959  \n",
       "1        Douglas Tucker  4478071379779230    Sun4608  \n",
       "2        Travis Walters  6011812112971322    Sun4458  \n",
       "3      Nathaniel Harris  4676137647685994    Sun5260  \n",
       "4          Tonya Carter  4832732618637221    Sun2251  \n",
       "..                  ...               ...        ...  \n",
       "239       Michael Avila  5296068606052842    Sat2657  \n",
       "240      Monica Sanders  3506806155565404    Sat1766  \n",
       "241          Keith Wong  6011891618747196    Sat3880  \n",
       "242        Dennis Dixon     4375220550950      Sat17  \n",
       "243     Michelle Hardin  3511451626698139    Thur672  \n",
       "\n",
       "[244 rows x 11 columns]"
      ]
     },
     "execution_count": 113,
     "metadata": {},
     "output_type": "execute_result"
    }
   ],
   "source": [
    "df = pd.read_csv('data/tips.csv')\n",
    "df"
   ]
  },
  {
   "cell_type": "code",
   "execution_count": 86,
   "metadata": {},
   "outputs": [
    {
     "name": "stdout",
     "output_type": "stream",
     "text": [
      "Index(['total_bill', 'tip', 'sex', 'smoker', 'day', 'time', 'size',\n",
      "       'price_per_person', 'Payer Name', 'CC Number', 'Payment ID'],\n",
      "      dtype='object')\n"
     ]
    }
   ],
   "source": [
    "print(df.columns)"
   ]
  },
  {
   "cell_type": "code",
   "execution_count": 87,
   "metadata": {},
   "outputs": [
    {
     "name": "stdout",
     "output_type": "stream",
     "text": [
      "RangeIndex(start=0, stop=244, step=1)\n"
     ]
    }
   ],
   "source": [
    "print(df.index)"
   ]
  },
  {
   "cell_type": "code",
   "execution_count": 88,
   "metadata": {},
   "outputs": [
    {
     "name": "stdout",
     "output_type": "stream",
     "text": [
      "   total_bill   tip     sex smoker  day    time  size  price_per_person  \\\n",
      "0       16.99  1.01  Female     No  Sun  Dinner     2              8.49   \n",
      "1       10.34  1.66    Male     No  Sun  Dinner     3              3.45   \n",
      "2       21.01  3.50    Male     No  Sun  Dinner     3              7.00   \n",
      "3       23.68  3.31    Male     No  Sun  Dinner     2             11.84   \n",
      "4       24.59  3.61  Female     No  Sun  Dinner     4              6.15   \n",
      "\n",
      "           Payer Name         CC Number Payment ID  \n",
      "0  Christy Cunningham  3560325168603410    Sun2959  \n",
      "1      Douglas Tucker  4478071379779230    Sun4608  \n",
      "2      Travis Walters  6011812112971322    Sun4458  \n",
      "3    Nathaniel Harris  4676137647685994    Sun5260  \n",
      "4        Tonya Carter  4832732618637221    Sun2251  \n",
      "   total_bill   tip     sex smoker  day    time  size  price_per_person  \\\n",
      "0       16.99  1.01  Female     No  Sun  Dinner     2              8.49   \n",
      "1       10.34  1.66    Male     No  Sun  Dinner     3              3.45   \n",
      "2       21.01  3.50    Male     No  Sun  Dinner     3              7.00   \n",
      "3       23.68  3.31    Male     No  Sun  Dinner     2             11.84   \n",
      "4       24.59  3.61  Female     No  Sun  Dinner     4              6.15   \n",
      "\n",
      "           Payer Name         CC Number Payment ID  \n",
      "0  Christy Cunningham  3560325168603410    Sun2959  \n",
      "1      Douglas Tucker  4478071379779230    Sun4608  \n",
      "2      Travis Walters  6011812112971322    Sun4458  \n",
      "3    Nathaniel Harris  4676137647685994    Sun5260  \n",
      "4        Tonya Carter  4832732618637221    Sun2251  \n"
     ]
    }
   ],
   "source": [
    "print(df.head())\n",
    "\n",
    "print(df.head(5))"
   ]
  },
  {
   "cell_type": "code",
   "execution_count": 89,
   "metadata": {},
   "outputs": [
    {
     "name": "stdout",
     "output_type": "stream",
     "text": [
      "     total_bill   tip     sex smoker   day    time  size  price_per_person  \\\n",
      "239       29.03  5.92    Male     No   Sat  Dinner     3              9.68   \n",
      "240       27.18  2.00  Female    Yes   Sat  Dinner     2             13.59   \n",
      "241       22.67  2.00    Male    Yes   Sat  Dinner     2             11.34   \n",
      "242       17.82  1.75    Male     No   Sat  Dinner     2              8.91   \n",
      "243       18.78  3.00  Female     No  Thur  Dinner     2              9.39   \n",
      "\n",
      "          Payer Name         CC Number Payment ID  \n",
      "239    Michael Avila  5296068606052842    Sat2657  \n",
      "240   Monica Sanders  3506806155565404    Sat1766  \n",
      "241       Keith Wong  6011891618747196    Sat3880  \n",
      "242     Dennis Dixon     4375220550950      Sat17  \n",
      "243  Michelle Hardin  3511451626698139    Thur672  \n"
     ]
    }
   ],
   "source": [
    "print(df.tail())"
   ]
  },
  {
   "cell_type": "code",
   "execution_count": 90,
   "metadata": {},
   "outputs": [
    {
     "name": "stdout",
     "output_type": "stream",
     "text": [
      "<class 'pandas.core.frame.DataFrame'>\n",
      "RangeIndex: 244 entries, 0 to 243\n",
      "Data columns (total 11 columns):\n",
      " #   Column            Non-Null Count  Dtype  \n",
      "---  ------            --------------  -----  \n",
      " 0   total_bill        244 non-null    float64\n",
      " 1   tip               244 non-null    float64\n",
      " 2   sex               244 non-null    object \n",
      " 3   smoker            244 non-null    object \n",
      " 4   day               244 non-null    object \n",
      " 5   time              244 non-null    object \n",
      " 6   size              244 non-null    int64  \n",
      " 7   price_per_person  244 non-null    float64\n",
      " 8   Payer Name        244 non-null    object \n",
      " 9   CC Number         244 non-null    int64  \n",
      " 10  Payment ID        244 non-null    object \n",
      "dtypes: float64(3), int64(2), object(6)\n",
      "memory usage: 21.1+ KB\n"
     ]
    }
   ],
   "source": [
    "df.info()"
   ]
  },
  {
   "cell_type": "markdown",
   "metadata": {},
   "source": [
    "# Part 3 : DataFrame\n",
    "Columns\n"
   ]
  },
  {
   "cell_type": "code",
   "execution_count": 91,
   "metadata": {},
   "outputs": [
    {
     "name": "stdout",
     "output_type": "stream",
     "text": [
      "       total_bill         tip        size  price_per_person     CC Number\n",
      "count  244.000000  244.000000  244.000000        244.000000  2.440000e+02\n",
      "mean    19.785943    2.998279    2.569672          7.888197  2.563496e+15\n",
      "std      8.902412    1.383638    0.951100          2.914234  2.369340e+15\n",
      "min      3.070000    1.000000    1.000000          2.880000  6.040679e+10\n",
      "25%     13.347500    2.000000    2.000000          5.800000  3.040731e+13\n",
      "50%     17.795000    2.900000    2.000000          7.255000  3.525318e+15\n",
      "75%     24.127500    3.562500    3.000000          9.390000  4.553675e+15\n",
      "max     50.810000   10.000000    6.000000         20.270000  6.596454e+15\n"
     ]
    }
   ],
   "source": [
    "print(df.describe())"
   ]
  },
  {
   "cell_type": "code",
   "execution_count": 92,
   "metadata": {},
   "outputs": [
    {
     "name": "stdout",
     "output_type": "stream",
     "text": [
      "                  count          mean           std           min  \\\n",
      "total_bill        244.0  1.978594e+01  8.902412e+00  3.070000e+00   \n",
      "tip               244.0  2.998279e+00  1.383638e+00  1.000000e+00   \n",
      "size              244.0  2.569672e+00  9.510998e-01  1.000000e+00   \n",
      "price_per_person  244.0  7.888197e+00  2.914234e+00  2.880000e+00   \n",
      "CC Number         244.0  2.563496e+15  2.369340e+15  6.040679e+10   \n",
      "\n",
      "                           25%           50%           75%           max  \n",
      "total_bill        1.334750e+01  1.779500e+01  2.412750e+01  5.081000e+01  \n",
      "tip               2.000000e+00  2.900000e+00  3.562500e+00  1.000000e+01  \n",
      "size              2.000000e+00  2.000000e+00  3.000000e+00  6.000000e+00  \n",
      "price_per_person  5.800000e+00  7.255000e+00  9.390000e+00  2.027000e+01  \n",
      "CC Number         3.040731e+13  3.525318e+15  4.553675e+15  6.596454e+15  \n"
     ]
    }
   ],
   "source": [
    "print(df.describe().transpose())"
   ]
  },
  {
   "cell_type": "code",
   "execution_count": 93,
   "metadata": {},
   "outputs": [
    {
     "name": "stdout",
     "output_type": "stream",
     "text": [
      "0      16.99\n",
      "1      10.34\n",
      "2      21.01\n",
      "3      23.68\n",
      "4      24.59\n",
      "       ...  \n",
      "239    29.03\n",
      "240    27.18\n",
      "241    22.67\n",
      "242    17.82\n",
      "243    18.78\n",
      "Name: total_bill, Length: 244, dtype: float64\n",
      "<class 'pandas.core.series.Series'>\n"
     ]
    }
   ],
   "source": [
    "print(df['total_bill'])\n",
    "print(type(df['total_bill']))"
   ]
  },
  {
   "cell_type": "code",
   "execution_count": 94,
   "metadata": {},
   "outputs": [
    {
     "name": "stdout",
     "output_type": "stream",
     "text": [
      "     total_bill   tip\n",
      "0         16.99  1.01\n",
      "1         10.34  1.66\n",
      "2         21.01  3.50\n",
      "3         23.68  3.31\n",
      "4         24.59  3.61\n",
      "..          ...   ...\n",
      "239       29.03  5.92\n",
      "240       27.18  2.00\n",
      "241       22.67  2.00\n",
      "242       17.82  1.75\n",
      "243       18.78  3.00\n",
      "\n",
      "[244 rows x 2 columns]\n",
      "-----------\n",
      "     total_bill   tip\n",
      "0         16.99  1.01\n",
      "1         10.34  1.66\n",
      "2         21.01  3.50\n",
      "3         23.68  3.31\n",
      "4         24.59  3.61\n",
      "..          ...   ...\n",
      "239       29.03  5.92\n",
      "240       27.18  2.00\n",
      "241       22.67  2.00\n",
      "242       17.82  1.75\n",
      "243       18.78  3.00\n",
      "\n",
      "[244 rows x 2 columns]\n"
     ]
    }
   ],
   "source": [
    "my_cols = ['total_bill','tip']\n",
    "print(df[my_cols])\n",
    "print(\"-----------\")\n",
    "\n",
    "print(df[['total_bill','tip']])"
   ]
  },
  {
   "cell_type": "code",
   "execution_count": 95,
   "metadata": {},
   "outputs": [
    {
     "name": "stdout",
     "output_type": "stream",
     "text": [
      "     total_bill   tip     sex smoker   day    time  size  price_per_person  \\\n",
      "0         16.99  1.01  Female     No   Sun  Dinner     2              8.49   \n",
      "1         10.34  1.66    Male     No   Sun  Dinner     3              3.45   \n",
      "2         21.01  3.50    Male     No   Sun  Dinner     3              7.00   \n",
      "3         23.68  3.31    Male     No   Sun  Dinner     2             11.84   \n",
      "4         24.59  3.61  Female     No   Sun  Dinner     4              6.15   \n",
      "..          ...   ...     ...    ...   ...     ...   ...               ...   \n",
      "239       29.03  5.92    Male     No   Sat  Dinner     3              9.68   \n",
      "240       27.18  2.00  Female    Yes   Sat  Dinner     2             13.59   \n",
      "241       22.67  2.00    Male    Yes   Sat  Dinner     2             11.34   \n",
      "242       17.82  1.75    Male     No   Sat  Dinner     2              8.91   \n",
      "243       18.78  3.00  Female     No  Thur  Dinner     2              9.39   \n",
      "\n",
      "             Payer Name         CC Number Payment ID  tip_percentage  \n",
      "0    Christy Cunningham  3560325168603410    Sun2959        5.944673  \n",
      "1        Douglas Tucker  4478071379779230    Sun4608       16.054159  \n",
      "2        Travis Walters  6011812112971322    Sun4458       16.658734  \n",
      "3      Nathaniel Harris  4676137647685994    Sun5260       13.978041  \n",
      "4          Tonya Carter  4832732618637221    Sun2251       14.680765  \n",
      "..                  ...               ...        ...             ...  \n",
      "239       Michael Avila  5296068606052842    Sat2657       20.392697  \n",
      "240      Monica Sanders  3506806155565404    Sat1766        7.358352  \n",
      "241          Keith Wong  6011891618747196    Sat3880        8.822232  \n",
      "242        Dennis Dixon     4375220550950      Sat17        9.820426  \n",
      "243     Michelle Hardin  3511451626698139    Thur672       15.974441  \n",
      "\n",
      "[244 rows x 12 columns]\n"
     ]
    }
   ],
   "source": [
    "# Create a New column\n",
    "\n",
    "df['tip_percentage'] = 100 * df['tip'] / df['total_bill']\n",
    "print(df)"
   ]
  },
  {
   "cell_type": "code",
   "execution_count": 96,
   "metadata": {},
   "outputs": [
    {
     "name": "stdout",
     "output_type": "stream",
     "text": [
      "     total_bill   tip     sex smoker   day    time  size  price_per_person  \\\n",
      "0         16.99  1.01  Female     No   Sun  Dinner     2          8.495000   \n",
      "1         10.34  1.66    Male     No   Sun  Dinner     3          3.446667   \n",
      "2         21.01  3.50    Male     No   Sun  Dinner     3          7.003333   \n",
      "3         23.68  3.31    Male     No   Sun  Dinner     2         11.840000   \n",
      "4         24.59  3.61  Female     No   Sun  Dinner     4          6.147500   \n",
      "..          ...   ...     ...    ...   ...     ...   ...               ...   \n",
      "239       29.03  5.92    Male     No   Sat  Dinner     3          9.676667   \n",
      "240       27.18  2.00  Female    Yes   Sat  Dinner     2         13.590000   \n",
      "241       22.67  2.00    Male    Yes   Sat  Dinner     2         11.335000   \n",
      "242       17.82  1.75    Male     No   Sat  Dinner     2          8.910000   \n",
      "243       18.78  3.00  Female     No  Thur  Dinner     2          9.390000   \n",
      "\n",
      "             Payer Name         CC Number Payment ID  tip_percentage  \n",
      "0    Christy Cunningham  3560325168603410    Sun2959        5.944673  \n",
      "1        Douglas Tucker  4478071379779230    Sun4608       16.054159  \n",
      "2        Travis Walters  6011812112971322    Sun4458       16.658734  \n",
      "3      Nathaniel Harris  4676137647685994    Sun5260       13.978041  \n",
      "4          Tonya Carter  4832732618637221    Sun2251       14.680765  \n",
      "..                  ...               ...        ...             ...  \n",
      "239       Michael Avila  5296068606052842    Sat2657       20.392697  \n",
      "240      Monica Sanders  3506806155565404    Sat1766        7.358352  \n",
      "241          Keith Wong  6011891618747196    Sat3880        8.822232  \n",
      "242        Dennis Dixon     4375220550950      Sat17        9.820426  \n",
      "243     Michelle Hardin  3511451626698139    Thur672       15.974441  \n",
      "\n",
      "[244 rows x 12 columns]\n"
     ]
    }
   ],
   "source": [
    "df['price_per_person'] = df['total_bill'] / df['size']\n",
    "print(df)"
   ]
  },
  {
   "cell_type": "code",
   "execution_count": 97,
   "metadata": {},
   "outputs": [
    {
     "name": "stdout",
     "output_type": "stream",
     "text": [
      "   total_bill   tip     sex smoker  day    time  size  price_per_person  \\\n",
      "0       16.99  1.01  Female     No  Sun  Dinner     2              8.49   \n",
      "1       10.34  1.66    Male     No  Sun  Dinner     3              3.45   \n",
      "2       21.01  3.50    Male     No  Sun  Dinner     3              7.00   \n",
      "3       23.68  3.31    Male     No  Sun  Dinner     2             11.84   \n",
      "4       24.59  3.61  Female     No  Sun  Dinner     4              6.15   \n",
      "\n",
      "           Payer Name         CC Number Payment ID  tip_percentage  \n",
      "0  Christy Cunningham  3560325168603410    Sun2959        5.944673  \n",
      "1      Douglas Tucker  4478071379779230    Sun4608       16.054159  \n",
      "2      Travis Walters  6011812112971322    Sun4458       16.658734  \n",
      "3    Nathaniel Harris  4676137647685994    Sun5260       13.978041  \n",
      "4        Tonya Carter  4832732618637221    Sun2251       14.680765  \n"
     ]
    }
   ],
   "source": [
    "df['price_per_person'] = np.round(df['total_bill'] / df['size'],2)\n",
    "print(df.head())"
   ]
  },
  {
   "cell_type": "code",
   "execution_count": 98,
   "metadata": {},
   "outputs": [
    {
     "name": "stdout",
     "output_type": "stream",
     "text": [
      "   total_bill   tip     sex smoker  day    time  size  price_per_person  \\\n",
      "0       16.99  1.01  Female     No  Sun  Dinner     2              8.49   \n",
      "1       10.34  1.66    Male     No  Sun  Dinner     3              3.45   \n",
      "2       21.01  3.50    Male     No  Sun  Dinner     3              7.00   \n",
      "3       23.68  3.31    Male     No  Sun  Dinner     2             11.84   \n",
      "4       24.59  3.61  Female     No  Sun  Dinner     4              6.15   \n",
      "\n",
      "           Payer Name         CC Number Payment ID  \n",
      "0  Christy Cunningham  3560325168603410    Sun2959  \n",
      "1      Douglas Tucker  4478071379779230    Sun4608  \n",
      "2      Travis Walters  6011812112971322    Sun4458  \n",
      "3    Nathaniel Harris  4676137647685994    Sun5260  \n",
      "4        Tonya Carter  4832732618637221    Sun2251  \n"
     ]
    }
   ],
   "source": [
    "# removing columns \n",
    "\n",
    "df = df.drop('tip_percentage',axis=1)\n",
    "print(df.head())"
   ]
  },
  {
   "cell_type": "code",
   "execution_count": 99,
   "metadata": {},
   "outputs": [
    {
     "name": "stdout",
     "output_type": "stream",
     "text": [
      "(244, 11)\n"
     ]
    }
   ],
   "source": [
    "print(df.shape)"
   ]
  },
  {
   "cell_type": "markdown",
   "metadata": {},
   "source": [
    "# Part 4 : DataFrame"
   ]
  },
  {
   "cell_type": "code",
   "execution_count": 100,
   "metadata": {},
   "outputs": [
    {
     "name": "stdout",
     "output_type": "stream",
     "text": [
      "RangeIndex(start=0, stop=244, step=1)\n"
     ]
    }
   ],
   "source": [
    "print(df.index)"
   ]
  },
  {
   "cell_type": "code",
   "execution_count": 101,
   "metadata": {},
   "outputs": [
    {
     "name": "stdout",
     "output_type": "stream",
     "text": [
      "            total_bill   tip     sex smoker   day    time  size  \\\n",
      "Payment ID                                                        \n",
      "Sun2959          16.99  1.01  Female     No   Sun  Dinner     2   \n",
      "Sun4608          10.34  1.66    Male     No   Sun  Dinner     3   \n",
      "Sun4458          21.01  3.50    Male     No   Sun  Dinner     3   \n",
      "Sun5260          23.68  3.31    Male     No   Sun  Dinner     2   \n",
      "Sun2251          24.59  3.61  Female     No   Sun  Dinner     4   \n",
      "...                ...   ...     ...    ...   ...     ...   ...   \n",
      "Sat2657          29.03  5.92    Male     No   Sat  Dinner     3   \n",
      "Sat1766          27.18  2.00  Female    Yes   Sat  Dinner     2   \n",
      "Sat3880          22.67  2.00    Male    Yes   Sat  Dinner     2   \n",
      "Sat17            17.82  1.75    Male     No   Sat  Dinner     2   \n",
      "Thur672          18.78  3.00  Female     No  Thur  Dinner     2   \n",
      "\n",
      "            price_per_person          Payer Name         CC Number  \n",
      "Payment ID                                                          \n",
      "Sun2959                 8.49  Christy Cunningham  3560325168603410  \n",
      "Sun4608                 3.45      Douglas Tucker  4478071379779230  \n",
      "Sun4458                 7.00      Travis Walters  6011812112971322  \n",
      "Sun5260                11.84    Nathaniel Harris  4676137647685994  \n",
      "Sun2251                 6.15        Tonya Carter  4832732618637221  \n",
      "...                      ...                 ...               ...  \n",
      "Sat2657                 9.68       Michael Avila  5296068606052842  \n",
      "Sat1766                13.59      Monica Sanders  3506806155565404  \n",
      "Sat3880                11.34          Keith Wong  6011891618747196  \n",
      "Sat17                   8.91        Dennis Dixon     4375220550950  \n",
      "Thur672                 9.39     Michelle Hardin  3511451626698139  \n",
      "\n",
      "[244 rows x 10 columns]\n"
     ]
    }
   ],
   "source": [
    "# set PaymentId as index\n",
    "\n",
    "df = df.set_index(\"Payment ID\")\n",
    "print(df)"
   ]
  },
  {
   "cell_type": "code",
   "execution_count": 102,
   "metadata": {},
   "outputs": [
    {
     "name": "stdout",
     "output_type": "stream",
     "text": [
      "  Payment ID  total_bill   tip     sex smoker  day    time  size  \\\n",
      "0    Sun2959       16.99  1.01  Female     No  Sun  Dinner     2   \n",
      "1    Sun4608       10.34  1.66    Male     No  Sun  Dinner     3   \n",
      "2    Sun4458       21.01  3.50    Male     No  Sun  Dinner     3   \n",
      "3    Sun5260       23.68  3.31    Male     No  Sun  Dinner     2   \n",
      "4    Sun2251       24.59  3.61  Female     No  Sun  Dinner     4   \n",
      "\n",
      "   price_per_person          Payer Name         CC Number  \n",
      "0              8.49  Christy Cunningham  3560325168603410  \n",
      "1              3.45      Douglas Tucker  4478071379779230  \n",
      "2              7.00      Travis Walters  6011812112971322  \n",
      "3             11.84    Nathaniel Harris  4676137647685994  \n",
      "4              6.15        Tonya Carter  4832732618637221  \n"
     ]
    }
   ],
   "source": [
    "# We want to reset the index \n",
    "\n",
    "df = df.reset_index()\n",
    "print(df.head())"
   ]
  },
  {
   "cell_type": "code",
   "execution_count": 103,
   "metadata": {},
   "outputs": [
    {
     "name": "stdout",
     "output_type": "stream",
     "text": [
      "            total_bill   tip     sex smoker   day    time  size  \\\n",
      "Payment ID                                                        \n",
      "Sun2959          16.99  1.01  Female     No   Sun  Dinner     2   \n",
      "Sun4608          10.34  1.66    Male     No   Sun  Dinner     3   \n",
      "Sun4458          21.01  3.50    Male     No   Sun  Dinner     3   \n",
      "Sun5260          23.68  3.31    Male     No   Sun  Dinner     2   \n",
      "Sun2251          24.59  3.61  Female     No   Sun  Dinner     4   \n",
      "...                ...   ...     ...    ...   ...     ...   ...   \n",
      "Sat2657          29.03  5.92    Male     No   Sat  Dinner     3   \n",
      "Sat1766          27.18  2.00  Female    Yes   Sat  Dinner     2   \n",
      "Sat3880          22.67  2.00    Male    Yes   Sat  Dinner     2   \n",
      "Sat17            17.82  1.75    Male     No   Sat  Dinner     2   \n",
      "Thur672          18.78  3.00  Female     No  Thur  Dinner     2   \n",
      "\n",
      "            price_per_person          Payer Name         CC Number  \n",
      "Payment ID                                                          \n",
      "Sun2959                 8.49  Christy Cunningham  3560325168603410  \n",
      "Sun4608                 3.45      Douglas Tucker  4478071379779230  \n",
      "Sun4458                 7.00      Travis Walters  6011812112971322  \n",
      "Sun5260                11.84    Nathaniel Harris  4676137647685994  \n",
      "Sun2251                 6.15        Tonya Carter  4832732618637221  \n",
      "...                      ...                 ...               ...  \n",
      "Sat2657                 9.68       Michael Avila  5296068606052842  \n",
      "Sat1766                13.59      Monica Sanders  3506806155565404  \n",
      "Sat3880                11.34          Keith Wong  6011891618747196  \n",
      "Sat17                   8.91        Dennis Dixon     4375220550950  \n",
      "Thur672                 9.39     Michelle Hardin  3511451626698139  \n",
      "\n",
      "[244 rows x 10 columns]\n"
     ]
    }
   ],
   "source": [
    "df = df.set_index('Payment ID')\n",
    "print(df)"
   ]
  },
  {
   "cell_type": "markdown",
   "metadata": {},
   "source": [
    "# iloc  vs loc \n",
    "```\n",
    "iloc - Number based index\n",
    "loc - level based index\n",
    "```"
   ]
  },
  {
   "cell_type": "code",
   "execution_count": 104,
   "metadata": {},
   "outputs": [
    {
     "name": "stdout",
     "output_type": "stream",
     "text": [
      "total_bill                       16.99\n",
      "tip                               1.01\n",
      "sex                             Female\n",
      "smoker                              No\n",
      "day                                Sun\n",
      "time                            Dinner\n",
      "size                                 2\n",
      "price_per_person                  8.49\n",
      "Payer Name          Christy Cunningham\n",
      "CC Number             3560325168603410\n",
      "Name: Sun2959, dtype: object\n",
      "--------------------------------\n",
      "            total_bill   tip     sex smoker  day    time  size  \\\n",
      "Payment ID                                                       \n",
      "Sun2959          16.99  1.01  Female     No  Sun  Dinner     2   \n",
      "Sun4608          10.34  1.66    Male     No  Sun  Dinner     3   \n",
      "Sun4458          21.01  3.50    Male     No  Sun  Dinner     3   \n",
      "Sun5260          23.68  3.31    Male     No  Sun  Dinner     2   \n",
      "\n",
      "            price_per_person          Payer Name         CC Number  \n",
      "Payment ID                                                          \n",
      "Sun2959                 8.49  Christy Cunningham  3560325168603410  \n",
      "Sun4608                 3.45      Douglas Tucker  4478071379779230  \n",
      "Sun4458                 7.00      Travis Walters  6011812112971322  \n",
      "Sun5260                11.84    Nathaniel Harris  4676137647685994  \n"
     ]
    }
   ],
   "source": [
    "# grab single row\n",
    "print(df.iloc[0])\n",
    "\n",
    "print(\"--------------------------------\")\n",
    "# grab multiple rows\n",
    "print(df.iloc[0:4]) "
   ]
  },
  {
   "cell_type": "code",
   "execution_count": 105,
   "metadata": {},
   "outputs": [
    {
     "name": "stdout",
     "output_type": "stream",
     "text": [
      "total_bill                       16.99\n",
      "tip                               1.01\n",
      "sex                             Female\n",
      "smoker                              No\n",
      "day                                Sun\n",
      "time                            Dinner\n",
      "size                                 2\n",
      "price_per_person                  8.49\n",
      "Payer Name          Christy Cunningham\n",
      "CC Number             3560325168603410\n",
      "Name: Sun2959, dtype: object\n",
      "---------------------------------\n",
      "            total_bill   tip     sex smoker  day    time  size  \\\n",
      "Payment ID                                                       \n",
      "Sun2959          16.99  1.01  Female     No  Sun  Dinner     2   \n",
      "Sun5260          23.68  3.31    Male     No  Sun  Dinner     2   \n",
      "\n",
      "            price_per_person          Payer Name         CC Number  \n",
      "Payment ID                                                          \n",
      "Sun2959                 8.49  Christy Cunningham  3560325168603410  \n",
      "Sun5260                11.84    Nathaniel Harris  4676137647685994  \n"
     ]
    }
   ],
   "source": [
    "print(df.loc['Sun2959'])\n",
    "\n",
    "print(\"---------------------------------\")\n",
    "\n",
    "print(df.loc[['Sun2959','Sun5260']])"
   ]
  },
  {
   "cell_type": "code",
   "execution_count": 106,
   "metadata": {},
   "outputs": [
    {
     "name": "stdout",
     "output_type": "stream",
     "text": [
      "            total_bill   tip     sex smoker  day    time  size  \\\n",
      "Payment ID                                                       \n",
      "Sun4608          10.34  1.66    Male     No  Sun  Dinner     3   \n",
      "Sun4458          21.01  3.50    Male     No  Sun  Dinner     3   \n",
      "Sun5260          23.68  3.31    Male     No  Sun  Dinner     2   \n",
      "Sun2251          24.59  3.61  Female     No  Sun  Dinner     4   \n",
      "Sun9679          25.29  4.71    Male     No  Sun  Dinner     4   \n",
      "\n",
      "            price_per_person        Payer Name         CC Number  \n",
      "Payment ID                                                        \n",
      "Sun4608                 3.45    Douglas Tucker  4478071379779230  \n",
      "Sun4458                 7.00    Travis Walters  6011812112971322  \n",
      "Sun5260                11.84  Nathaniel Harris  4676137647685994  \n",
      "Sun2251                 6.15      Tonya Carter  4832732618637221  \n",
      "Sun9679                 6.32        Erik Smith   213140353657882  \n"
     ]
    }
   ],
   "source": [
    "# Remove rows \n",
    "\n",
    "df = df.drop('Sun2959',axis=0)\n",
    "print(df.head())"
   ]
  },
  {
   "cell_type": "code",
   "execution_count": 107,
   "metadata": {},
   "outputs": [],
   "source": [
    "# inserting a new row \n",
    "one_row = df.iloc[0]"
   ]
  },
  {
   "cell_type": "code",
   "execution_count": 108,
   "metadata": {},
   "outputs": [
    {
     "name": "stdout",
     "output_type": "stream",
     "text": [
      "total_bill                     10.34\n",
      "tip                             1.66\n",
      "sex                             Male\n",
      "smoker                            No\n",
      "day                              Sun\n",
      "time                          Dinner\n",
      "size                               3\n",
      "price_per_person                3.45\n",
      "Payer Name            Douglas Tucker\n",
      "CC Number           4478071379779230\n",
      "Name: Sun4608, dtype: object\n"
     ]
    }
   ],
   "source": [
    "print(one_row)"
   ]
  },
  {
   "cell_type": "code",
   "execution_count": 109,
   "metadata": {},
   "outputs": [
    {
     "name": "stdout",
     "output_type": "stream",
     "text": [
      "            total_bill   tip     sex smoker  day    time  size  \\\n",
      "Payment ID                                                       \n",
      "Sun4608          10.34  1.66    Male     No  Sun  Dinner     3   \n",
      "Sun4458          21.01  3.50    Male     No  Sun  Dinner     3   \n",
      "Sun5260          23.68  3.31    Male     No  Sun  Dinner     2   \n",
      "Sun2251          24.59  3.61  Female     No  Sun  Dinner     4   \n",
      "Sun9679          25.29  4.71    Male     No  Sun  Dinner     4   \n",
      "\n",
      "            price_per_person        Payer Name         CC Number  \n",
      "Payment ID                                                        \n",
      "Sun4608                 3.45    Douglas Tucker  4478071379779230  \n",
      "Sun4458                 7.00    Travis Walters  6011812112971322  \n",
      "Sun5260                11.84  Nathaniel Harris  4676137647685994  \n",
      "Sun2251                 6.15      Tonya Carter  4832732618637221  \n",
      "Sun9679                 6.32        Erik Smith   213140353657882  \n",
      "            total_bill   tip     sex smoker   day    time  size  \\\n",
      "Payment ID                                                        \n",
      "Sat1766          27.18  2.00  Female    Yes   Sat  Dinner     2   \n",
      "Sat3880          22.67  2.00    Male    Yes   Sat  Dinner     2   \n",
      "Sat17            17.82  1.75    Male     No   Sat  Dinner     2   \n",
      "Thur672          18.78  3.00  Female     No  Thur  Dinner     2   \n",
      "Sun4608          10.34  1.66    Male     No   Sun  Dinner     3   \n",
      "\n",
      "            price_per_person       Payer Name         CC Number  \n",
      "Payment ID                                                       \n",
      "Sat1766                13.59   Monica Sanders  3506806155565404  \n",
      "Sat3880                11.34       Keith Wong  6011891618747196  \n",
      "Sat17                   8.91     Dennis Dixon     4375220550950  \n",
      "Thur672                 9.39  Michelle Hardin  3511451626698139  \n",
      "Sun4608                 3.45   Douglas Tucker  4478071379779230  \n"
     ]
    }
   ],
   "source": [
    "df = df._append(one_row)\n",
    "print(df.head())\n",
    "print(df.tail())"
   ]
  },
  {
   "cell_type": "code",
   "execution_count": 111,
   "metadata": {},
   "outputs": [
    {
     "data": {
      "text/html": [
       "<div>\n",
       "<style scoped>\n",
       "    .dataframe tbody tr th:only-of-type {\n",
       "        vertical-align: middle;\n",
       "    }\n",
       "\n",
       "    .dataframe tbody tr th {\n",
       "        vertical-align: top;\n",
       "    }\n",
       "\n",
       "    .dataframe thead th {\n",
       "        text-align: right;\n",
       "    }\n",
       "</style>\n",
       "<table border=\"1\" class=\"dataframe\">\n",
       "  <thead>\n",
       "    <tr style=\"text-align: right;\">\n",
       "      <th></th>\n",
       "      <th>total_bill</th>\n",
       "      <th>tip</th>\n",
       "      <th>sex</th>\n",
       "      <th>smoker</th>\n",
       "      <th>day</th>\n",
       "      <th>time</th>\n",
       "      <th>size</th>\n",
       "      <th>price_per_person</th>\n",
       "      <th>Payer Name</th>\n",
       "      <th>CC Number</th>\n",
       "    </tr>\n",
       "    <tr>\n",
       "      <th>Payment ID</th>\n",
       "      <th></th>\n",
       "      <th></th>\n",
       "      <th></th>\n",
       "      <th></th>\n",
       "      <th></th>\n",
       "      <th></th>\n",
       "      <th></th>\n",
       "      <th></th>\n",
       "      <th></th>\n",
       "      <th></th>\n",
       "    </tr>\n",
       "  </thead>\n",
       "  <tbody>\n",
       "    <tr>\n",
       "      <th>Sun4608</th>\n",
       "      <td>10.34</td>\n",
       "      <td>1.66</td>\n",
       "      <td>Male</td>\n",
       "      <td>No</td>\n",
       "      <td>Sun</td>\n",
       "      <td>Dinner</td>\n",
       "      <td>3</td>\n",
       "      <td>3.45</td>\n",
       "      <td>Douglas Tucker</td>\n",
       "      <td>4478071379779230</td>\n",
       "    </tr>\n",
       "    <tr>\n",
       "      <th>Sun4458</th>\n",
       "      <td>21.01</td>\n",
       "      <td>3.50</td>\n",
       "      <td>Male</td>\n",
       "      <td>No</td>\n",
       "      <td>Sun</td>\n",
       "      <td>Dinner</td>\n",
       "      <td>3</td>\n",
       "      <td>7.00</td>\n",
       "      <td>Travis Walters</td>\n",
       "      <td>6011812112971322</td>\n",
       "    </tr>\n",
       "    <tr>\n",
       "      <th>Sun5260</th>\n",
       "      <td>23.68</td>\n",
       "      <td>3.31</td>\n",
       "      <td>Male</td>\n",
       "      <td>No</td>\n",
       "      <td>Sun</td>\n",
       "      <td>Dinner</td>\n",
       "      <td>2</td>\n",
       "      <td>11.84</td>\n",
       "      <td>Nathaniel Harris</td>\n",
       "      <td>4676137647685994</td>\n",
       "    </tr>\n",
       "    <tr>\n",
       "      <th>Sun2251</th>\n",
       "      <td>24.59</td>\n",
       "      <td>3.61</td>\n",
       "      <td>Female</td>\n",
       "      <td>No</td>\n",
       "      <td>Sun</td>\n",
       "      <td>Dinner</td>\n",
       "      <td>4</td>\n",
       "      <td>6.15</td>\n",
       "      <td>Tonya Carter</td>\n",
       "      <td>4832732618637221</td>\n",
       "    </tr>\n",
       "    <tr>\n",
       "      <th>Sun9679</th>\n",
       "      <td>25.29</td>\n",
       "      <td>4.71</td>\n",
       "      <td>Male</td>\n",
       "      <td>No</td>\n",
       "      <td>Sun</td>\n",
       "      <td>Dinner</td>\n",
       "      <td>4</td>\n",
       "      <td>6.32</td>\n",
       "      <td>Erik Smith</td>\n",
       "      <td>213140353657882</td>\n",
       "    </tr>\n",
       "    <tr>\n",
       "      <th>...</th>\n",
       "      <td>...</td>\n",
       "      <td>...</td>\n",
       "      <td>...</td>\n",
       "      <td>...</td>\n",
       "      <td>...</td>\n",
       "      <td>...</td>\n",
       "      <td>...</td>\n",
       "      <td>...</td>\n",
       "      <td>...</td>\n",
       "      <td>...</td>\n",
       "    </tr>\n",
       "    <tr>\n",
       "      <th>Sat1766</th>\n",
       "      <td>27.18</td>\n",
       "      <td>2.00</td>\n",
       "      <td>Female</td>\n",
       "      <td>Yes</td>\n",
       "      <td>Sat</td>\n",
       "      <td>Dinner</td>\n",
       "      <td>2</td>\n",
       "      <td>13.59</td>\n",
       "      <td>Monica Sanders</td>\n",
       "      <td>3506806155565404</td>\n",
       "    </tr>\n",
       "    <tr>\n",
       "      <th>Sat3880</th>\n",
       "      <td>22.67</td>\n",
       "      <td>2.00</td>\n",
       "      <td>Male</td>\n",
       "      <td>Yes</td>\n",
       "      <td>Sat</td>\n",
       "      <td>Dinner</td>\n",
       "      <td>2</td>\n",
       "      <td>11.34</td>\n",
       "      <td>Keith Wong</td>\n",
       "      <td>6011891618747196</td>\n",
       "    </tr>\n",
       "    <tr>\n",
       "      <th>Sat17</th>\n",
       "      <td>17.82</td>\n",
       "      <td>1.75</td>\n",
       "      <td>Male</td>\n",
       "      <td>No</td>\n",
       "      <td>Sat</td>\n",
       "      <td>Dinner</td>\n",
       "      <td>2</td>\n",
       "      <td>8.91</td>\n",
       "      <td>Dennis Dixon</td>\n",
       "      <td>4375220550950</td>\n",
       "    </tr>\n",
       "    <tr>\n",
       "      <th>Thur672</th>\n",
       "      <td>18.78</td>\n",
       "      <td>3.00</td>\n",
       "      <td>Female</td>\n",
       "      <td>No</td>\n",
       "      <td>Thur</td>\n",
       "      <td>Dinner</td>\n",
       "      <td>2</td>\n",
       "      <td>9.39</td>\n",
       "      <td>Michelle Hardin</td>\n",
       "      <td>3511451626698139</td>\n",
       "    </tr>\n",
       "    <tr>\n",
       "      <th>Sun4608</th>\n",
       "      <td>10.34</td>\n",
       "      <td>1.66</td>\n",
       "      <td>Male</td>\n",
       "      <td>No</td>\n",
       "      <td>Sun</td>\n",
       "      <td>Dinner</td>\n",
       "      <td>3</td>\n",
       "      <td>3.45</td>\n",
       "      <td>Douglas Tucker</td>\n",
       "      <td>4478071379779230</td>\n",
       "    </tr>\n",
       "  </tbody>\n",
       "</table>\n",
       "<p>244 rows × 10 columns</p>\n",
       "</div>"
      ],
      "text/plain": [
       "            total_bill   tip     sex smoker   day    time  size  \\\n",
       "Payment ID                                                        \n",
       "Sun4608          10.34  1.66    Male     No   Sun  Dinner     3   \n",
       "Sun4458          21.01  3.50    Male     No   Sun  Dinner     3   \n",
       "Sun5260          23.68  3.31    Male     No   Sun  Dinner     2   \n",
       "Sun2251          24.59  3.61  Female     No   Sun  Dinner     4   \n",
       "Sun9679          25.29  4.71    Male     No   Sun  Dinner     4   \n",
       "...                ...   ...     ...    ...   ...     ...   ...   \n",
       "Sat1766          27.18  2.00  Female    Yes   Sat  Dinner     2   \n",
       "Sat3880          22.67  2.00    Male    Yes   Sat  Dinner     2   \n",
       "Sat17            17.82  1.75    Male     No   Sat  Dinner     2   \n",
       "Thur672          18.78  3.00  Female     No  Thur  Dinner     2   \n",
       "Sun4608          10.34  1.66    Male     No   Sun  Dinner     3   \n",
       "\n",
       "            price_per_person        Payer Name         CC Number  \n",
       "Payment ID                                                        \n",
       "Sun4608                 3.45    Douglas Tucker  4478071379779230  \n",
       "Sun4458                 7.00    Travis Walters  6011812112971322  \n",
       "Sun5260                11.84  Nathaniel Harris  4676137647685994  \n",
       "Sun2251                 6.15      Tonya Carter  4832732618637221  \n",
       "Sun9679                 6.32        Erik Smith   213140353657882  \n",
       "...                      ...               ...               ...  \n",
       "Sat1766                13.59    Monica Sanders  3506806155565404  \n",
       "Sat3880                11.34        Keith Wong  6011891618747196  \n",
       "Sat17                   8.91      Dennis Dixon     4375220550950  \n",
       "Thur672                 9.39   Michelle Hardin  3511451626698139  \n",
       "Sun4608                 3.45    Douglas Tucker  4478071379779230  \n",
       "\n",
       "[244 rows x 10 columns]"
      ]
     },
     "execution_count": 111,
     "metadata": {},
     "output_type": "execute_result"
    }
   ],
   "source": [
    "df"
   ]
  },
  {
   "cell_type": "code",
   "execution_count": null,
   "metadata": {},
   "outputs": [],
   "source": []
  }
 ],
 "metadata": {
  "kernelspec": {
   "display_name": "myenv",
   "language": "python",
   "name": "python3"
  },
  "language_info": {
   "codemirror_mode": {
    "name": "ipython",
    "version": 3
   },
   "file_extension": ".py",
   "mimetype": "text/x-python",
   "name": "python",
   "nbconvert_exporter": "python",
   "pygments_lexer": "ipython3",
   "version": "3.12.3"
  }
 },
 "nbformat": 4,
 "nbformat_minor": 2
}
