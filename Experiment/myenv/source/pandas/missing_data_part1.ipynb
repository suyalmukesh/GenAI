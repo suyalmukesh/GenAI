{
 "cells": [
  {
   "cell_type": "markdown",
   "metadata": {},
   "source": [
    "# Missing Data \n",
    "When reading in  missing values , pandas will display them as NaN values. \n",
    "\n",
    "There are also newer specialized null pandas values such as pd.NaT to imply the value missing should be a timestamp.\n",
    "\n",
    "```\n",
    "Options for Missing Data\n",
    "  - Keep it \n",
    "  - Remove it \n",
    "  - Replace it \n",
    "\n",
    "  Note , there is never 100% correct approach that applies to all circumstances , it all depends on the exact situation you encounter !\n",
    "```    \n"
   ]
  },
  {
   "cell_type": "markdown",
   "metadata": {},
   "source": [
    "# Option 1 :  Keeping the missing data \n",
    "```\n",
    "PROS :\n",
    "    - Easiest to do \n",
    "    - Does not manipulate or change the true data \n",
    "CONS :\n",
    "    - Many methods do not support NaN\n",
    "    - Often there are reasonable guesses    \n",
    "```    "
   ]
  },
  {
   "cell_type": "markdown",
   "metadata": {},
   "source": [
    "# Option 2 : Dropping or Removing the missing data \n",
    "```\n",
    "PROS :\n",
    "    - Easy to do \n",
    "    - Can be based on rules \n",
    "CONS : \n",
    "    - Potential to lose a lot of data or useful information \n",
    "    - Limits trained models for future data \n",
    "\n",
    " ** Dropping a Row \n",
    "        -- Makes sense whena lot of info is missing \n",
    "\n",
    " ** Dropping a Column \n",
    "        -- Good choice if every row is missing that particular feature \n",
    "```\n",
    "\n"
   ]
  },
  {
   "cell_type": "markdown",
   "metadata": {},
   "source": [
    "# Option 3 : Filling in the missing data \n",
    "```\n",
    "PROS : \n",
    "    - Potential to save a lot of data for use in training a model  \n",
    "CONS :\n",
    "    - Hardest to do and somewhat arbitrary \n",
    "    - Potential to lead to false conclusions \n",
    "```    "
   ]
  },
  {
   "cell_type": "markdown",
   "metadata": {},
   "source": []
  }
 ],
 "metadata": {
  "kernelspec": {
   "display_name": "myenv",
   "language": "python",
   "name": "python3"
  },
  "language_info": {
   "codemirror_mode": {
    "name": "ipython",
    "version": 3
   },
   "file_extension": ".py",
   "mimetype": "text/x-python",
   "name": "python",
   "nbconvert_exporter": "python",
   "pygments_lexer": "ipython3",
   "version": "3.12.3"
  }
 },
 "nbformat": 4,
 "nbformat_minor": 2
}
