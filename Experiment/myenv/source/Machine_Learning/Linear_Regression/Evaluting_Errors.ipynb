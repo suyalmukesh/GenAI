{
 "cells": [
  {
   "cell_type": "markdown",
   "metadata": {},
   "source": [
    "# Evaluating Regression \n",
    "```\n",
    "The most common evaluation metrics for regression : \n",
    "    1. Mean Absolute Error\n",
    "    2. Mean Squared Error\n",
    "    3. Root Mean Square Error         \n",
    "```    "
   ]
  },
  {
   "cell_type": "markdown",
   "metadata": {},
   "source": [
    "# Evaluating Residuals\n",
    "\n",
    "The residual erros should be random and close to a normal distribution ."
   ]
  },
  {
   "cell_type": "markdown",
   "metadata": {},
   "source": []
  }
 ],
 "metadata": {
  "language_info": {
   "name": "python"
  }
 },
 "nbformat": 4,
 "nbformat_minor": 2
}
