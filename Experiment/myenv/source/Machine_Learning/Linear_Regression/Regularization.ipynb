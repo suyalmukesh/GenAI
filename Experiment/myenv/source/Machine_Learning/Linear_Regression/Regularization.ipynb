{
 "cells": [
  {
   "cell_type": "markdown",
   "metadata": {},
   "source": [
    "# Regularization\n",
    "\n",
    "Regularization seeks to solve a few common model issues by :\n",
    "\n",
    "    - Minimizing model complexity \n",
    "    - Penalizing the loss function \n",
    "    - Reducing model overfitting (add more bias to reduce model variance)\n",
    "\n",
    "In general , we can think of regularization as a way to reduce model overfitting and variance .\n",
    "\n",
    "    - Requires some additional bias \n",
    "    - Requires a search for optimal penality hyperparameter \n",
    "\n",
    "Three main types of Regularization :\n",
    "\n",
    "    - L1 Regularization \n",
    "   **LASSO Regression** \n",
    "\n",
    "    - L2 Regularization \n",
    "   **Ridge Regression**\n",
    "\n",
    "    - Combining L1 and L2 \n",
    "   **Elastic Net**  "
   ]
  },
  {
   "cell_type": "markdown",
   "metadata": {},
   "source": [
    "# Feature Scaling\n",
    "\n",
    "Some ML models that rely on distance metrics (e.g. KNN require scaling to perform well . \n",
    "\n",
    "**Note : There are some ML Algos where scaling won't have an effect (e.g. CART based methods).**\n",
    "\n",
    "Two main ways to scale features : \n",
    "\n",
    "**Standardization (also referrred as Z-score normalization)**\n",
    "    -> Rescales data to have a mean (u-mu) of 0 and standard deviation (sigma) of 1 .\n",
    "\n",
    "**Normalization**\n",
    "    -> Rescales all data values to be between 0 - 1 .\n",
    "    \n",
    "**Feature scaling process**\n",
    "\n",
    "    -- Perform train test split \n",
    "    -- Fit to training feature data \n",
    "    -- Transform training feature data \n",
    "    -- Transform test feature data \n",
    "\n",
    "Read : stats.stackexchange.com/questions/111467     "
   ]
  },
  {
   "cell_type": "markdown",
   "metadata": {
    "vscode": {
     "languageId": "plaintext"
    }
   },
   "source": [
    "# Cross Validation "
   ]
  },
  {
   "cell_type": "markdown",
   "metadata": {},
   "source": []
  }
 ],
 "metadata": {
  "language_info": {
   "name": "python"
  }
 },
 "nbformat": 4,
 "nbformat_minor": 2
}
